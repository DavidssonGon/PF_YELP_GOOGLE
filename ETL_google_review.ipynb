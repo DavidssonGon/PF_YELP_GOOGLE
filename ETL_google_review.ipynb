{
 "cells": [
  {
   "cell_type": "code",
   "execution_count": 2,
   "metadata": {},
   "outputs": [],
   "source": [
    "import os\n",
    "import pandas as pd"
   ]
  },
  {
   "cell_type": "code",
   "execution_count": 3,
   "metadata": {},
   "outputs": [],
   "source": [
    "# Especifica la ruta de la carpeta que contiene los archivos JSON\n",
    "carpeta = 'raw_data/google/reviews-estados/review-alabama'\n",
    "\n",
    "# Lista para almacenar DataFrames individuales de cada archivo JSON\n",
    "dataframes = []\n",
    "\n",
    "# Itera sobre cada archivo en la carpeta\n",
    "for archivo in os.listdir(carpeta):\n",
    "    if archivo.endswith('.json'):\n",
    "        # Construye la ruta completa del archivo\n",
    "        ruta_archivo = os.path.join(carpeta, archivo)\n",
    "\n",
    "        # Lee el archivo JSON y almacénalo en un DataFrame\n",
    "        df = pd.read_json(ruta_archivo, lines=True)\n",
    "\n",
    "        # Agrega el DataFrame a la lista\n",
    "        dataframes.append(df)\n",
    "\n",
    "# Concatena todos los DataFrames en uno solo\n",
    "df_completo = pd.concat(dataframes, ignore_index=True)"
   ]
  },
  {
   "cell_type": "code",
   "execution_count": 5,
   "metadata": {},
   "outputs": [],
   "source": [
    "df_head=df_completo.head()\n",
    "df_head.to_excel('google_review_head.xlsx', index=False)"
   ]
  }
 ],
 "metadata": {
  "kernelspec": {
   "display_name": "Python 3",
   "language": "python",
   "name": "python3"
  },
  "language_info": {
   "codemirror_mode": {
    "name": "ipython",
    "version": 3
   },
   "file_extension": ".py",
   "mimetype": "text/x-python",
   "name": "python",
   "nbconvert_exporter": "python",
   "pygments_lexer": "ipython3",
   "version": "3.11.7"
  }
 },
 "nbformat": 4,
 "nbformat_minor": 2
}
