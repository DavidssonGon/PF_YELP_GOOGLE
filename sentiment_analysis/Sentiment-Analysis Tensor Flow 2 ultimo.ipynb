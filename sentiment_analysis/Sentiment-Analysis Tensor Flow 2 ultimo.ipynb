{
 "cells": [
  {
   "cell_type": "code",
   "execution_count": 36,
   "id": "8ca254ee-110c-4b6d-a5a4-95a5931fd2ad",
   "metadata": {},
   "outputs": [
    {
     "name": "stdout",
     "output_type": "stream",
     "text": [
      "Requirement already satisfied: torch in /opt/conda/lib/python3.7/site-packages (1.13.1)\n",
      "Requirement already satisfied: typing-extensions in /opt/conda/lib/python3.7/site-packages (from torch) (4.7.1)\n",
      "Requirement already satisfied: nvidia-cuda-runtime-cu11==11.7.99 in /opt/conda/lib/python3.7/site-packages (from torch) (11.7.99)\n",
      "Requirement already satisfied: nvidia-cudnn-cu11==8.5.0.96 in /opt/conda/lib/python3.7/site-packages (from torch) (8.5.0.96)\n",
      "Requirement already satisfied: nvidia-cublas-cu11==11.10.3.66 in /opt/conda/lib/python3.7/site-packages (from torch) (11.10.3.66)\n",
      "Requirement already satisfied: nvidia-cuda-nvrtc-cu11==11.7.99 in /opt/conda/lib/python3.7/site-packages (from torch) (11.7.99)\n",
      "Requirement already satisfied: setuptools in /opt/conda/lib/python3.7/site-packages (from nvidia-cublas-cu11==11.10.3.66->torch) (68.2.2)\n",
      "Requirement already satisfied: wheel in /opt/conda/lib/python3.7/site-packages (from nvidia-cublas-cu11==11.10.3.66->torch) (0.41.2)\n",
      "Note: you may need to restart the kernel to use updated packages.\n"
     ]
    }
   ],
   "source": [
    "pip install --upgrade torch"
   ]
  },
  {
   "cell_type": "code",
   "execution_count": 37,
   "id": "6a021827-639b-4c8d-8f29-41f978a79b4d",
   "metadata": {},
   "outputs": [],
   "source": [
    "import pandas as pd\n",
    "from google.cloud import bigquery\n",
    "import pandas_gbq\n",
    "import matplotlib.pyplot as plt\n",
    "import seaborn as sns\n",
    "import re\n",
    "from transformers import DistilBertTokenizer, DistilBertModel\n",
    "import tensorflow as tf\n",
    "from tensorflow.keras import layers, models\n",
    "import string\n",
    "from sklearn.model_selection import train_test_split\n",
    "from tensorflow.keras.preprocessing.text import Tokenizer\n",
    "from tensorflow.keras.preprocessing.sequence import pad_sequences\n",
    "from tensorflow.keras.models import Sequential\n",
    "from tensorflow.keras.layers import Embedding, LSTM, Dense\n",
    "import os\n",
    "from tensorflow.keras.callbacks import EarlyStopping\n",
    "import numpy as np\n",
    "import nltk\n",
    "from nltk.tokenize import word_tokenize\n",
    "from nltk.corpus import stopwords\n",
    "from nltk.stem import PorterStemmer\n",
    "from sklearn.model_selection import train_test_split\n",
    "from sklearn.preprocessing import LabelEncoder\n",
    "\n",
    "from sklearn.feature_extraction.text import TfidfVectorizer\n",
    "from sklearn.naive_bayes import MultinomialNB\n",
    "from sklearn.metrics import accuracy_score, classification_report\n",
    "import torch\n",
    "import torch.nn as nn\n",
    "import torch.optim as optim\n",
    "from torch.utils.data import DataLoader, TensorDataset"
   ]
  },
  {
   "cell_type": "code",
   "execution_count": 30,
   "id": "afcedfb1-eedc-465e-86d9-0b1e030159e3",
   "metadata": {},
   "outputs": [],
   "source": [
    "!rm /opt/conda/lib/python3.7/site-packages/nvidia/cublas/lib/libcublas.so.11"
   ]
  },
  {
   "cell_type": "code",
   "execution_count": 42,
   "id": "c74e046d-6a17-4e5a-af52-b4d5a7c9fcbc",
   "metadata": {},
   "outputs": [
    {
     "name": "stdout",
     "output_type": "stream",
     "text": [
      "Downloading: 100%|\u001b[32m██████████\u001b[0m|\n"
     ]
    }
   ],
   "source": [
    "reviewgoogle = pandas_gbq.read_gbq(\"SELECT * FROM `prometheus-data-solutions.Datawarehouse_prometheus.google_nlp`\")"
   ]
  },
  {
   "cell_type": "code",
   "execution_count": 4,
   "id": "c66645f7-fb98-4cf4-ba27-e8f29bcf9e7c",
   "metadata": {},
   "outputs": [],
   "source": [
    "reviewgoogle1= reviewgoogle.copy()"
   ]
  },
  {
   "cell_type": "code",
   "execution_count": 43,
   "id": "2191f6fd-a30c-4e47-b359-f24e647a0ce7",
   "metadata": {},
   "outputs": [
    {
     "name": "stderr",
     "output_type": "stream",
     "text": [
      "/opt/conda/lib/python3.7/site-packages/ipykernel_launcher.py:6: FutureWarning: The default value of regex will change from True to False in a future version.\n",
      "  \n"
     ]
    }
   ],
   "source": [
    "reviewgoogle['comment'] = reviewgoogle['comment'].apply(lambda x: x.strip().replace('\\n', ' ').replace('\\t', ' ').replace('\\r', ' ').replace('\\'', ' ').replace('\\\"', ' ').replace('\\\\', ' '))                 \n",
    "# Define the regular expression pattern for special characters\n",
    "special_char_pattern = '[^A-Za-z0-9\\s.,!?]'\n",
    "\n",
    "# Replace special characters in the 'comment' column with an empty string\n",
    "reviewgoogle['comment'] = reviewgoogle['comment'].str.replace(special_char_pattern, '')\n",
    "reviewgoogle['comment'] = reviewgoogle['comment'].apply(lambda x: re.sub(r'\\s+', ' ', x))\n",
    "reviewgoogle['comment'] = reviewgoogle['comment'].apply(lambda x: x.strip())"
   ]
  },
  {
   "cell_type": "code",
   "execution_count": 44,
   "id": "cfc44872-e6ee-43e1-aa82-06910327b68f",
   "metadata": {},
   "outputs": [],
   "source": [
    "def normalize_text(text):\n",
    "    # Convert to lowercase\n",
    "    text = text.lower()\n",
    "    # Remove punctuation\n",
    "    text = ''.join([char for char in text if char not in string.punctuation])\n",
    "    return text\n",
    "\n",
    "# Apply the normalization function to the 'comment' column\n",
    "reviewgoogle['comment_normalized'] = reviewgoogle['comment'].apply(normalize_text)"
   ]
  },
  {
   "cell_type": "code",
   "execution_count": 11,
   "id": "09015618-dc1b-434d-bae2-775ce7ec6f85",
   "metadata": {},
   "outputs": [
    {
     "data": {
      "image/png": "[encoded data removed]",
      "text/plain": [
       "<Figure size 1000x600 with 1 Axes>"
      ]
     },
     "metadata": {},
     "output_type": "display_data"
    }
   ],
   "source": [
    "score_counts = reviewgoogle['stars'].value_counts()\n",
    "\n",
    "# Create a bar plot using seaborn\n",
    "sns.set(style=\"whitegrid\")\n",
    "plt.figure(figsize=(10, 6))\n",
    "bar_plot = sns.barplot(x=score_counts.index, y=score_counts.values, palette=\"viridis\")\n",
    "\n",
    "# Add labels and title\n",
    "plt.xlabel('Score')\n",
    "plt.ylabel('Conteo')\n",
    "plt.title('Distribution de scores')\n",
    "\n",
    "# Show the plot\n",
    "plt.show()"
   ]
  },
  {
   "cell_type": "code",
   "execution_count": 7,
   "id": "32001c0a-e5fd-4140-9a99-e8f2b9e13877",
   "metadata": {},
   "outputs": [
    {
     "data": {
      "text/plain": [
       "5    122013\n",
       "4     39682\n",
       "3     17570\n",
       "1     15454\n",
       "2      8876\n",
       "Name: stars, dtype: Int64"
      ]
     },
     "execution_count": 7,
     "metadata": {},
     "output_type": "execute_result"
    }
   ],
   "source": [
    "reviewgoogle.stars.value_counts()"
   ]
  },
  {
   "cell_type": "code",
   "execution_count": 45,
   "id": "7be41347-6485-43a3-9f79-4ab2c1519fa7",
   "metadata": {},
   "outputs": [],
   "source": [
    "# Specify the number of rows to randomly select for each unique value\n",
    "num_rows_to_select = 8876\n",
    "\n",
    "# Create an empty DataFrame to store the sampled data\n",
    "sampled_data = pd.DataFrame()\n",
    "\n",
    "# Iterate over unique values in the 'stars' column\n",
    "for unique_value in reviewgoogle['stars'].unique():\n",
    "    # Select randomly 'num_rows_to_select' rows for each unique value\n",
    "    sampled_rows = reviewgoogle[reviewgoogle['stars'] == unique_value].sample(n=num_rows_to_select, random_state=42)\n",
    "    \n",
    "    # Append the sampled rows to the result DataFrame\n",
    "    sampled_data = pd.concat([sampled_data, sampled_rows])\n",
    "\n"
   ]
  },
  {
   "cell_type": "code",
   "execution_count": 46,
   "id": "be373e36-ccce-4720-a3d1-db030c657546",
   "metadata": {},
   "outputs": [],
   "source": [
    "sampled_data = sampled_data.rename(columns={'comment_normalized': 'review', 'stars': 'score'})\n",
    "# Drop the 'comment' column\n",
    "sampled_data = sampled_data.drop(columns=['comment'])"
   ]
  },
  {
   "cell_type": "code",
   "execution_count": 35,
   "id": "e8e949ab-50f0-4bf6-b31e-e356a01139bc",
   "metadata": {},
   "outputs": [
    {
     "name": "stdout",
     "output_type": "stream",
     "text": [
      "<class 'pandas.core.frame.DataFrame'>\n",
      "Int64Index: 44380 entries, 150 to 115750\n",
      "Data columns (total 6 columns):\n",
      " #   Column  Non-Null Count  Dtype              \n",
      "---  ------  --------------  -----              \n",
      " 0   id      44380 non-null  object             \n",
      " 1   name    44380 non-null  object             \n",
      " 2   date    44380 non-null  datetime64[ns, UTC]\n",
      " 3   score   44380 non-null  Int64              \n",
      " 4   source  44380 non-null  object             \n",
      " 5   review  44380 non-null  object             \n",
      "dtypes: Int64(1), datetime64[ns, UTC](1), object(4)\n",
      "memory usage: 2.4+ MB\n"
     ]
    }
   ],
   "source": [
    "sampled_data.info()"
   ]
  },
  {
   "cell_type": "code",
   "execution_count": 2,
   "id": "f7bd652d-af09-4267-9791-146e7eeae4b2",
   "metadata": {},
   "outputs": [
    {
     "ename": "NameError",
     "evalue": "name 'sampled_data' is not defined",
     "output_type": "error",
     "traceback": [
      "\u001b[0;31m---------------------------------------------------------------------------\u001b[0m",
      "\u001b[0;31mNameError\u001b[0m                                 Traceback (most recent call last)",
      "\u001b[0;32m/var/tmp/ipykernel_10558/1647077540.py\u001b[0m in \u001b[0;36m<module>\u001b[0;34m\u001b[0m\n\u001b[0;32m----> 1\u001b[0;31m \u001b[0msampled_data\u001b[0m\u001b[0;34m.\u001b[0m\u001b[0mscore\u001b[0m\u001b[0;34m.\u001b[0m\u001b[0mvalue_counts\u001b[0m\u001b[0;34m(\u001b[0m\u001b[0;34m)\u001b[0m\u001b[0;34m\u001b[0m\u001b[0;34m\u001b[0m\u001b[0m\n\u001b[0m",
      "\u001b[0;31mNameError\u001b[0m: name 'sampled_data' is not defined"
     ]
    }
   ],
   "source": [
    "sampled_data.score.value_counts()"
   ]
  },
  {
   "cell_type": "code",
   "execution_count": null,
   "id": "86cfdb00-5928-43cc-93f7-0690cbec0d8f",
   "metadata": {},
   "outputs": [],
   "source": [
    "********************************************************************************************************"
   ]
  },
  {
   "cell_type": "code",
   "execution_count": 47,
   "id": "1c47ccb5-8c68-4400-b2b5-8fdcaa896ef5",
   "metadata": {},
   "outputs": [],
   "source": [
    "# Split the data into training and testing sets\n",
    "X_train, X_test, y_train, y_test = train_test_split(\n",
    "    reviewgoogle['comment_normalized'], reviewgoogle['stars'], test_size=0.2, random_state=42\n",
    ")\n",
    "\n",
    "# Combine training and testing data to find the maximum sequence length\n",
    "all_text = pd.concat([X_train, X_test])\n",
    "tokenizer = Tokenizer(oov_token=\"<OOV>\")\n",
    "tokenizer.fit_on_texts(all_text)\n",
    "max_sequence_length = max(map(len, tokenizer.texts_to_sequences(all_text)))\n",
    "\n",
    "# Tokenize the text\n",
    "X_train_sequences = tokenizer.texts_to_sequences(X_train)\n",
    "X_test_sequences = tokenizer.texts_to_sequences(X_test)\n",
    "\n",
    "# Pad sequences to ensure consistent length\n",
    "X_train_padded = pad_sequences(X_train_sequences, padding='post', maxlen=max_sequence_length)\n",
    "X_test_padded = pad_sequences(X_test_sequences, padding='post', maxlen=max_sequence_length)\n",
    "\n",
    "# Convert sentiment scores to categorical format\n",
    "y_train_categorical = tf.keras.utils.to_categorical(y_train - 1, num_classes=5)  # Assuming scores are 1 to 5\n",
    "y_test_categorical = tf.keras.utils.to_categorical(y_test - 1, num_classes=5)\n",
    "\n"
   ]
  },
  {
   "cell_type": "code",
   "execution_count": 48,
   "id": "5bc16411-309b-46a2-bb47-a9a9fb89b946",
   "metadata": {},
   "outputs": [],
   "source": [
    "os.environ['CUDA_VISIBLE_DEVICES'] = '-1'\n",
    "# Build the sentiment analysis model\n",
    "model = Sequential()\n",
    "model.add(Embedding(input_dim=len(tokenizer.word_index) + 1, output_dim=64, input_length=max_sequence_length))\n",
    "model.add(LSTM(100))\n",
    "model.add(Dense(5, activation='softmax'))  # Assuming 5 classes (1 to 5 scores)\n",
    "\n",
    "model.compile(optimizer='adam', loss='categorical_crossentropy', metrics=['accuracy'])\n"
   ]
  },
  {
   "cell_type": "code",
   "execution_count": 49,
   "id": "d74cf8be-93a6-4aa3-b418-7a860f5e446f",
   "metadata": {},
   "outputs": [
    {
     "name": "stdout",
     "output_type": "stream",
     "text": [
      "Epoch 1/7\n",
      "5090/5090 [==============================] - 2087s 410ms/step - loss: 1.1732 - accuracy: 0.5985 - val_loss: 1.1651 - val_accuracy: 0.6022\n",
      "Epoch 2/7\n",
      "5090/5090 [==============================] - 2081s 409ms/step - loss: 1.1714 - accuracy: 0.5986 - val_loss: 1.1646 - val_accuracy: 0.6022\n",
      "Epoch 3/7\n",
      "5090/5090 [==============================] - 2090s 411ms/step - loss: 1.1713 - accuracy: 0.5986 - val_loss: 1.1648 - val_accuracy: 0.6022\n",
      "Epoch 4/7\n",
      "5090/5090 [==============================] - 2069s 406ms/step - loss: 1.1711 - accuracy: 0.5986 - val_loss: 1.1651 - val_accuracy: 0.6022\n",
      "Epoch 5/7\n",
      "5090/5090 [==============================] - 2028s 399ms/step - loss: 1.1714 - accuracy: 0.5985 - val_loss: 1.1648 - val_accuracy: 0.6022\n",
      "Epoch 6/7\n",
      "5090/5090 [==============================] - 2041s 401ms/step - loss: 1.1710 - accuracy: 0.5986 - val_loss: 1.1644 - val_accuracy: 0.6022\n",
      "Epoch 7/7\n",
      "5090/5090 [==============================] - 2054s 404ms/step - loss: 1.1710 - accuracy: 0.5986 - val_loss: 1.1645 - val_accuracy: 0.6022\n"
     ]
    },
    {
     "data": {
      "image/png": "[encoded data removed]",
      "text/plain": [
       "<Figure size 1000x600 with 1 Axes>"
      ]
     },
     "metadata": {},
     "output_type": "display_data"
    }
   ],
   "source": [
    "# Train the model and store the training history\n",
    "early_stopping = EarlyStopping(monitor='val_loss', patience=4, restore_best_weights=True)\n",
    "history = model.fit(X_train_padded, y_train_categorical, epochs=7, validation_data=(X_test_padded, y_test_categorical), callbacks=[early_stopping])\n",
    "\n",
    "# Plot training and validation loss\n",
    "plt.figure(figsize=(10, 6))\n",
    "plt.plot(history.history['loss'], label='Training Loss', marker='o')\n",
    "plt.plot(history.history['val_loss'], label='Validation Loss', marker='o')\n",
    "plt.title('Training and Validation Loss Over Epochs')\n",
    "plt.xlabel('Epochs')\n",
    "plt.ylabel('Loss')\n",
    "plt.legend()\n",
    "plt.show()"
   ]
  },
  {
   "cell_type": "code",
   "execution_count": 50,
   "id": "0ddec2c8-3b6a-47ff-a478-3fbe74afc6a5",
   "metadata": {},
   "outputs": [
    {
     "name": "stdout",
     "output_type": "stream",
     "text": [
      "1273/1273 [==============================] - 145s 114ms/step - loss: 1.1645 - accuracy: 0.6022\n",
      "Test Loss: 1.1645, Test Accuracy: 60.22%\n"
     ]
    }
   ],
   "source": [
    "# Evaluate the model\n",
    "loss, accuracy = model.evaluate(X_test_padded, y_test_categorical)\n",
    "print(f\"Test Loss: {loss:.4f}, Test Accuracy: {accuracy*100:.2f}%\")"
   ]
  },
  {
   "cell_type": "code",
   "execution_count": null,
   "id": "c5d5ba96-4bd1-4943-9794-c33fc69e42b1",
   "metadata": {},
   "outputs": [],
   "source": []
  },
  {
   "cell_type": "code",
   "execution_count": 77,
   "id": "16d5df61-c485-404e-98d5-ced056ab3c1a",
   "metadata": {},
   "outputs": [
    {
     "name": "stdout",
     "output_type": "stream",
     "text": [
      "              precision    recall  f1-score   support\n",
      "\n",
      "           1       0.00      0.00      0.00      1828\n",
      "           2       0.20      1.00      0.33      1736\n",
      "           3       0.00      0.00      0.00      1758\n",
      "           4       0.00      0.00      0.00      1769\n",
      "           5       0.00      0.00      0.00      1785\n",
      "\n",
      "    accuracy                           0.20      8876\n",
      "   macro avg       0.04      0.20      0.07      8876\n",
      "weighted avg       0.04      0.20      0.06      8876\n",
      "\n"
     ]
    },
    {
     "name": "stderr",
     "output_type": "stream",
     "text": [
      "/opt/conda/lib/python3.7/site-packages/sklearn/metrics/_classification.py:1318: UndefinedMetricWarning: Precision and F-score are ill-defined and being set to 0.0 in labels with no predicted samples. Use `zero_division` parameter to control this behavior.\n",
      "  _warn_prf(average, modifier, msg_start, len(result))\n",
      "/opt/conda/lib/python3.7/site-packages/sklearn/metrics/_classification.py:1318: UndefinedMetricWarning: Precision and F-score are ill-defined and being set to 0.0 in labels with no predicted samples. Use `zero_division` parameter to control this behavior.\n",
      "  _warn_prf(average, modifier, msg_start, len(result))\n",
      "/opt/conda/lib/python3.7/site-packages/sklearn/metrics/_classification.py:1318: UndefinedMetricWarning: Precision and F-score are ill-defined and being set to 0.0 in labels with no predicted samples. Use `zero_division` parameter to control this behavior.\n",
      "  _warn_prf(average, modifier, msg_start, len(result))\n"
     ]
    }
   ],
   "source": [
    "from sklearn.metrics import classification_report\n",
    "\n",
    "# Generate classification report\n",
    "print(classification_report(y_true, y_pred, target_names=[\"1\", \"2\", \"3\", \"4\", \"5\"]))"
   ]
  },
  {
   "cell_type": "code",
   "execution_count": 78,
   "id": "d6e02dbb-2590-48d7-9012-fb1eb29e7792",
   "metadata": {},
   "outputs": [
    {
     "name": "stdout",
     "output_type": "stream",
     "text": [
      "278/278 [==============================] - 32s 112ms/step\n"
     ]
    },
    {
     "data": {
      "image/png": "[encoded data removed]",
      "text/plain": [
       "<Figure size 800x600 with 2 Axes>"
      ]
     },
     "metadata": {},
     "output_type": "display_data"
    }
   ],
   "source": [
    "# Get predictions for the test set\n",
    "y_pred_prob = model.predict(X_test_padded)\n",
    "y_pred = np.argmax(y_pred_prob, axis=1)\n",
    "\n",
    "# Convert class labels to integers (if needed)\n",
    "y_true = y_test.astype(int)\n",
    "\n",
    "# Create confusion matrix\n",
    "cm = confusion_matrix(y_true, y_pred)\n",
    "\n",
    "# Plot confusion matrix\n",
    "plt.figure(figsize=(8, 6))\n",
    "sns.heatmap(cm, annot=True, fmt='d', cmap='Blues', xticklabels=[1, 2, 3, 4, 5], yticklabels=[1, 2, 3, 4, 5])\n",
    "plt.xlabel('Predicted')\n",
    "plt.ylabel('True')\n",
    "plt.title('Confusion Matrix')\n",
    "plt.show()"
   ]
  },
  {
   "cell_type": "code",
   "execution_count": 20,
   "id": "a6355048-15c3-47b3-988a-bf2df0f151e5",
   "metadata": {},
   "outputs": [
    {
     "name": "stdout",
     "output_type": "stream",
     "text": [
      "Downloading: 100%|\u001b[32m██████████\u001b[0m|\n"
     ]
    }
   ],
   "source": [
    "reviewyelp = pandas_gbq.read_gbq(\"SELECT * FROM `prometheus-data-solutions.Datawarehouse_prometheus.yelp_nlp`\")"
   ]
  },
  {
   "cell_type": "code",
   "execution_count": 21,
   "id": "7399a54f-583a-440f-99b1-4aea3d0a31ab",
   "metadata": {},
   "outputs": [
    {
     "name": "stderr",
     "output_type": "stream",
     "text": [
      "/opt/conda/lib/python3.7/site-packages/ipykernel_launcher.py:6: FutureWarning: The default value of regex will change from True to False in a future version.\n",
      "  \n"
     ]
    }
   ],
   "source": [
    "reviewyelp['comment'] = reviewyelp['comment'].apply(lambda x: x.strip().replace('\\n', ' ').replace('\\t', ' ').replace('\\r', ' ').replace('\\'', ' ').replace('\\\"', ' ').replace('\\\\', ' '))                 \n",
    "# Define the regular expression pattern for special characters\n",
    "special_char_pattern = '[^A-Za-z0-9\\s.,!?]'\n",
    "\n",
    "# Replace special characters in the 'comment' column with an empty string\n",
    "reviewyelp['comment'] = reviewyelp['comment'].str.replace(special_char_pattern, '')\n",
    "reviewyelp['comment'] = reviewyelp['comment'].apply(lambda x: re.sub(r'\\s+', ' ', x))\n",
    "reviewyelp['comment'] = reviewyelp['comment'].apply(lambda x: x.strip())"
   ]
  },
  {
   "cell_type": "code",
   "execution_count": 22,
   "id": "6e919043-5916-4140-8e28-0bdcb6262cae",
   "metadata": {},
   "outputs": [],
   "source": [
    "reviewyelp['comment_normalized'] = reviewyelp['comment'].apply(normalize_text)"
   ]
  },
  {
   "cell_type": "code",
   "execution_count": 23,
   "id": "e6cc5fd8-5e23-4ca3-9d08-c6d336052c34",
   "metadata": {},
   "outputs": [],
   "source": [
    "reviewyelp = reviewyelp.rename(columns={'comment_normalized': 'review', 'stars': 'score'})\n",
    "# Drop the 'comment' column\n",
    "reviewyelp = reviewyelp.drop(columns=['comment'])"
   ]
  },
  {
   "cell_type": "code",
   "execution_count": 85,
   "id": "50b8f638-d3b2-46e9-b34d-d4c29f47faab",
   "metadata": {},
   "outputs": [
    {
     "name": "stdout",
     "output_type": "stream",
     "text": [
      "<class 'pandas.core.frame.DataFrame'>\n",
      "RangeIndex: 1983489 entries, 0 to 1983488\n",
      "Data columns (total 6 columns):\n",
      " #   Column  Dtype              \n",
      "---  ------  -----              \n",
      " 0   id      object             \n",
      " 1   name    object             \n",
      " 2   date    datetime64[ns, UTC]\n",
      " 3   score   Int64              \n",
      " 4   source  object             \n",
      " 5   review  object             \n",
      "dtypes: Int64(1), datetime64[ns, UTC](1), object(4)\n",
      "memory usage: 92.7+ MB\n"
     ]
    }
   ],
   "source": [
    "reviewyelp.info()"
   ]
  },
  {
   "cell_type": "code",
   "execution_count": null,
   "id": "452609dd-b437-41c7-b107-9ffaa14454cb",
   "metadata": {},
   "outputs": [],
   "source": [
    "import pandas as pd\n",
    "from sklearn.model_selection import train_test_split\n",
    "from tensorflow.keras.preprocessing.sequence import pad_sequences\n",
    "\n",
    "# Assuming 'reviewyelp' is your DataFrame\n",
    "# Assuming 'review' is the column with normalized text\n",
    "# Assuming 'ML_scores' is the column where you want to store the scores\n",
    "\n",
    "# Split the DataFrame into 20 smaller DataFrames\n",
    "dfs = [reviewyelp.iloc[i:i + len(reviewyelp) // 20] for i in range(0, len(reviewyelp), len(reviewyelp) // 20)]\n",
    "\n",
    "# Initialize the 'ML_scores' column with zeros\n",
    "for df in dfs:\n",
    "    df['ML_scores'] = 0\n",
    "\n",
    "# Tokenize the text\n",
    "for df in dfs:\n",
    "    X_new_sequences = tokenizer.texts_to_sequences(df['review'])\n",
    "    X_new_padded = pad_sequences(X_new_sequences, padding='post', maxlen=max_sequence_length)\n",
    "\n",
    "    # Make predictions\n",
    "    y_new_pred = model.predict(X_new_padded).argmax(axis=1) + 1\n",
    "\n",
    "    # Map predictions to original scores\n",
    "    df['ML_scores'] = y_new_pred\n",
    "\n",
    "# Concatenate the 20 DataFrames\n",
    "result_df = pd.concat(dfs, ignore_index=True)\n",
    "\n",
    "# Save the result DataFrame with ML_scores\n",
    "result_df.to_csv('result_with_ML_scores.csv', index=False)\n"
   ]
  },
  {
   "cell_type": "code",
   "execution_count": 88,
   "id": "9238492e-94a5-4943-9060-bba2d3bb3cfa",
   "metadata": {},
   "outputs": [
    {
     "name": "stdout",
     "output_type": "stream",
     "text": [
      "3125/3125 [==============================] - 351s 112ms/step\n"
     ]
    },
    {
     "name": "stderr",
     "output_type": "stream",
     "text": [
      "/opt/conda/lib/python3.7/site-packages/pandas/core/indexing.py:1732: SettingWithCopyWarning: \n",
      "A value is trying to be set on a copy of a slice from a DataFrame\n",
      "\n",
      "See the caveats in the documentation: https://pandas.pydata.org/pandas-docs/stable/user_guide/indexing.html#returning-a-view-versus-a-copy\n",
      "  self._setitem_single_block(indexer, value, name)\n"
     ]
    },
    {
     "name": "stdout",
     "output_type": "stream",
     "text": [
      "3125/3125 [==============================] - 351s 112ms/step\n",
      "3125/3125 [==============================] - 351s 112ms/step\n",
      "3125/3125 [==============================] - 351s 112ms/step\n",
      "3125/3125 [==============================] - 351s 112ms/step\n",
      "3125/3125 [==============================] - 351s 112ms/step\n",
      "3125/3125 [==============================] - 352s 113ms/step\n",
      "3125/3125 [==============================] - 351s 112ms/step\n",
      "3125/3125 [==============================] - 352s 113ms/step\n",
      "3125/3125 [==============================] - 352s 112ms/step\n",
      "3125/3125 [==============================] - 352s 113ms/step\n",
      "3125/3125 [==============================] - 353s 113ms/step\n",
      "3125/3125 [==============================] - 352s 112ms/step\n",
      "3125/3125 [==============================] - 353s 113ms/step\n",
      "3125/3125 [==============================] - 355s 113ms/step\n"
     ]
    },
    {
     "ename": "MemoryError",
     "evalue": "Unable to allocate 311. MiB for an array with shape (100000, 815) and data type int32",
     "output_type": "error",
     "traceback": [
      "\u001b[0;31m---------------------------------------------------------------------------\u001b[0m",
      "\u001b[0;31mMemoryError\u001b[0m                               Traceback (most recent call last)",
      "\u001b[0;32m/var/tmp/ipykernel_19519/4280914199.py\u001b[0m in \u001b[0;36m<module>\u001b[0;34m\u001b[0m\n\u001b[1;32m      7\u001b[0m     \u001b[0mend_idx\u001b[0m \u001b[0;34m=\u001b[0m \u001b[0mstart_idx\u001b[0m \u001b[0;34m+\u001b[0m \u001b[0mbatch_size\u001b[0m \u001b[0;32mif\u001b[0m \u001b[0mstart_idx\u001b[0m \u001b[0;34m+\u001b[0m \u001b[0mbatch_size\u001b[0m \u001b[0;34m<\u001b[0m \u001b[0mlen\u001b[0m\u001b[0;34m(\u001b[0m\u001b[0mreviewyelp\u001b[0m\u001b[0;34m)\u001b[0m \u001b[0;32melse\u001b[0m \u001b[0mlen\u001b[0m\u001b[0;34m(\u001b[0m\u001b[0mreviewyelp\u001b[0m\u001b[0;34m)\u001b[0m\u001b[0;34m\u001b[0m\u001b[0;34m\u001b[0m\u001b[0m\n\u001b[1;32m      8\u001b[0m     \u001b[0mX_batch\u001b[0m \u001b[0;34m=\u001b[0m \u001b[0mtokenizer\u001b[0m\u001b[0;34m.\u001b[0m\u001b[0mtexts_to_sequences\u001b[0m\u001b[0;34m(\u001b[0m\u001b[0mreviewyelp\u001b[0m\u001b[0;34m[\u001b[0m\u001b[0;34m'review'\u001b[0m\u001b[0;34m]\u001b[0m\u001b[0;34m.\u001b[0m\u001b[0miloc\u001b[0m\u001b[0;34m[\u001b[0m\u001b[0mstart_idx\u001b[0m\u001b[0;34m:\u001b[0m\u001b[0mend_idx\u001b[0m\u001b[0;34m]\u001b[0m\u001b[0;34m)\u001b[0m\u001b[0;34m\u001b[0m\u001b[0;34m\u001b[0m\u001b[0m\n\u001b[0;32m----> 9\u001b[0;31m     \u001b[0mX_batch_padded\u001b[0m \u001b[0;34m=\u001b[0m \u001b[0mpad_sequences\u001b[0m\u001b[0;34m(\u001b[0m\u001b[0mX_batch\u001b[0m\u001b[0;34m,\u001b[0m \u001b[0mpadding\u001b[0m\u001b[0;34m=\u001b[0m\u001b[0;34m'post'\u001b[0m\u001b[0;34m,\u001b[0m \u001b[0mmaxlen\u001b[0m\u001b[0;34m=\u001b[0m\u001b[0mmax_sequence_length\u001b[0m\u001b[0;34m)\u001b[0m\u001b[0;34m\u001b[0m\u001b[0;34m\u001b[0m\u001b[0m\n\u001b[0m\u001b[1;32m     10\u001b[0m     \u001b[0my_batch_pred\u001b[0m \u001b[0;34m=\u001b[0m \u001b[0mmodel\u001b[0m\u001b[0;34m.\u001b[0m\u001b[0mpredict\u001b[0m\u001b[0;34m(\u001b[0m\u001b[0mX_batch_padded\u001b[0m\u001b[0;34m)\u001b[0m\u001b[0;34m.\u001b[0m\u001b[0margmax\u001b[0m\u001b[0;34m(\u001b[0m\u001b[0maxis\u001b[0m\u001b[0;34m=\u001b[0m\u001b[0;36m1\u001b[0m\u001b[0;34m)\u001b[0m \u001b[0;34m+\u001b[0m \u001b[0;36m1\u001b[0m\u001b[0;34m\u001b[0m\u001b[0;34m\u001b[0m\u001b[0m\n\u001b[1;32m     11\u001b[0m \u001b[0;34m\u001b[0m\u001b[0m\n",
      "\u001b[0;32m/opt/conda/lib/python3.7/site-packages/keras/utils/data_utils.py\u001b[0m in \u001b[0;36mpad_sequences\u001b[0;34m(sequences, maxlen, dtype, padding, truncating, value)\u001b[0m\n\u001b[1;32m   1068\u001b[0m         )\n\u001b[1;32m   1069\u001b[0m \u001b[0;34m\u001b[0m\u001b[0m\n\u001b[0;32m-> 1070\u001b[0;31m     \u001b[0mx\u001b[0m \u001b[0;34m=\u001b[0m \u001b[0mnp\u001b[0m\u001b[0;34m.\u001b[0m\u001b[0mfull\u001b[0m\u001b[0;34m(\u001b[0m\u001b[0;34m(\u001b[0m\u001b[0mnum_samples\u001b[0m\u001b[0;34m,\u001b[0m \u001b[0mmaxlen\u001b[0m\u001b[0;34m)\u001b[0m \u001b[0;34m+\u001b[0m \u001b[0msample_shape\u001b[0m\u001b[0;34m,\u001b[0m \u001b[0mvalue\u001b[0m\u001b[0;34m,\u001b[0m \u001b[0mdtype\u001b[0m\u001b[0;34m=\u001b[0m\u001b[0mdtype\u001b[0m\u001b[0;34m)\u001b[0m\u001b[0;34m\u001b[0m\u001b[0;34m\u001b[0m\u001b[0m\n\u001b[0m\u001b[1;32m   1071\u001b[0m     \u001b[0;32mfor\u001b[0m \u001b[0midx\u001b[0m\u001b[0;34m,\u001b[0m \u001b[0ms\u001b[0m \u001b[0;32min\u001b[0m \u001b[0menumerate\u001b[0m\u001b[0;34m(\u001b[0m\u001b[0msequences\u001b[0m\u001b[0;34m)\u001b[0m\u001b[0;34m:\u001b[0m\u001b[0;34m\u001b[0m\u001b[0;34m\u001b[0m\u001b[0m\n\u001b[1;32m   1072\u001b[0m         \u001b[0;32mif\u001b[0m \u001b[0;32mnot\u001b[0m \u001b[0mlen\u001b[0m\u001b[0;34m(\u001b[0m\u001b[0ms\u001b[0m\u001b[0;34m)\u001b[0m\u001b[0;34m:\u001b[0m\u001b[0;34m\u001b[0m\u001b[0;34m\u001b[0m\u001b[0m\n",
      "\u001b[0;32m/opt/conda/lib/python3.7/site-packages/numpy/core/numeric.py\u001b[0m in \u001b[0;36mfull\u001b[0;34m(shape, fill_value, dtype, order, like)\u001b[0m\n\u001b[1;32m    341\u001b[0m         \u001b[0mfill_value\u001b[0m \u001b[0;34m=\u001b[0m \u001b[0masarray\u001b[0m\u001b[0;34m(\u001b[0m\u001b[0mfill_value\u001b[0m\u001b[0;34m)\u001b[0m\u001b[0;34m\u001b[0m\u001b[0;34m\u001b[0m\u001b[0m\n\u001b[1;32m    342\u001b[0m         \u001b[0mdtype\u001b[0m \u001b[0;34m=\u001b[0m \u001b[0mfill_value\u001b[0m\u001b[0;34m.\u001b[0m\u001b[0mdtype\u001b[0m\u001b[0;34m\u001b[0m\u001b[0;34m\u001b[0m\u001b[0m\n\u001b[0;32m--> 343\u001b[0;31m     \u001b[0ma\u001b[0m \u001b[0;34m=\u001b[0m \u001b[0mempty\u001b[0m\u001b[0;34m(\u001b[0m\u001b[0mshape\u001b[0m\u001b[0;34m,\u001b[0m \u001b[0mdtype\u001b[0m\u001b[0;34m,\u001b[0m \u001b[0morder\u001b[0m\u001b[0;34m)\u001b[0m\u001b[0;34m\u001b[0m\u001b[0;34m\u001b[0m\u001b[0m\n\u001b[0m\u001b[1;32m    344\u001b[0m     \u001b[0mmultiarray\u001b[0m\u001b[0;34m.\u001b[0m\u001b[0mcopyto\u001b[0m\u001b[0;34m(\u001b[0m\u001b[0ma\u001b[0m\u001b[0;34m,\u001b[0m \u001b[0mfill_value\u001b[0m\u001b[0;34m,\u001b[0m \u001b[0mcasting\u001b[0m\u001b[0;34m=\u001b[0m\u001b[0;34m'unsafe'\u001b[0m\u001b[0;34m)\u001b[0m\u001b[0;34m\u001b[0m\u001b[0;34m\u001b[0m\u001b[0m\n\u001b[1;32m    345\u001b[0m     \u001b[0;32mreturn\u001b[0m \u001b[0ma\u001b[0m\u001b[0;34m\u001b[0m\u001b[0;34m\u001b[0m\u001b[0m\n",
      "\u001b[0;31mMemoryError\u001b[0m: Unable to allocate 311. MiB for an array with shape (100000, 815) and data type int32"
     ]
    }
   ],
   "source": [
    "# Assuming 'reviewyelp' is your new DataFrame\n",
    "reviewyelp['ML_scores'] = 0  # Initialize the 'ML_scores' column with zeros\n",
    "\n",
    "batch_size = 100000\n",
    "\n",
    "for start_idx in range(0, len(reviewyelp), batch_size):\n",
    "    end_idx = start_idx + batch_size if start_idx + batch_size < len(reviewyelp) else len(reviewyelp)\n",
    "    X_batch = tokenizer.texts_to_sequences(reviewyelp['review'].iloc[start_idx:end_idx])\n",
    "    X_batch_padded = pad_sequences(X_batch, padding='post', maxlen=max_sequence_length)\n",
    "    y_batch_pred = model.predict(X_batch_padded).argmax(axis=1) + 1\n",
    "\n",
    "    # Map predictions to original scores for the batch\n",
    "    reviewyelp['ML_scores'].iloc[start_idx:end_idx] = y_batch_pred + 1\n",
    "\n",
    "# Handle the last batch if its size is less than the specified batch_size\n",
    "if len(reviewyelp) % batch_size != 0:\n",
    "    start_idx = len(reviewyelp) - len(reviewyelp) % batch_size\n",
    "    X_batch = tokenizer.texts_to_sequences(reviewyelp['review'].iloc[start_idx:])\n",
    "    X_batch_padded = pad_sequences(X_batch, padding='post', maxlen=max_sequence_length)\n",
    "    y_batch_pred = model.predict(X_batch_padded).argmax(axis=1) + 1\n",
    "    reviewyelp['ML_scores'].iloc[start_idx:] = y_batch_pred + 1"
   ]
  },
  {
   "cell_type": "code",
   "execution_count": null,
   "id": "d315064d-5d80-40c5-94af-0453f3ddd8e8",
   "metadata": {},
   "outputs": [],
   "source": [
    "from google.cloud import storage\n",
    "reviewyelp.to_csv('2yelp_nlp_executed.csv')\n",
    "# Set your Google Cloud Storage bucket name and CSV file name\n",
    "bucket_name = 'bucket_prometheus'\n",
    "file_name = '2yelp_nlp_executed.csv'\n",
    "\n",
    "# Create a storage client\n",
    "client = storage.Client()\n",
    "\n",
    "# Get the bucket\n",
    "bucket = client.get_bucket(bucket_name)\n",
    "\n",
    "# Upload the file to the bucket\n",
    "blob = bucket.blob(file_name)\n",
    "blob.upload_from_filename(file_name)"
   ]
  },
  {
   "cell_type": "code",
   "execution_count": 93,
   "id": "4f6012ff-7203-44b5-918d-04dc5581e394",
   "metadata": {},
   "outputs": [
    {
     "name": "stdout",
     "output_type": "stream",
     "text": [
      "4/4 [==============================] - 0s 92ms/step\n"
     ]
    }
   ],
   "source": [
    "# Create a DataFrame named 'test1' with the first 100 rows\n",
    "test1 = sampled_data.head(100).copy()\n",
    "\n",
    "# Initialize the 'ML_scores' column with zeros\n",
    "test1['ML_scores'] = 0\n",
    "\n",
    "# Tokenize the text\n",
    "X_test1_sequences = tokenizer.texts_to_sequences(test1['review'])\n",
    "X_test1_padded = pad_sequences(X_test1_sequences, padding='post', maxlen=max_sequence_length)\n",
    "\n",
    "# Make predictions\n",
    "y_test1_pred = model.predict(X_test1_padded).argmax(axis=1) + 1\n",
    "\n",
    "# Map predictions to original scores\n",
    "test1['ML_scores'] = y_test1_pred"
   ]
  },
  {
   "cell_type": "code",
   "execution_count": 94,
   "id": "20490382-5c58-45fe-a984-d0a4e800d458",
   "metadata": {},
   "outputs": [
    {
     "data": {
      "text/html": [
       "<div>\n",
       "<style scoped>\n",
       "    .dataframe tbody tr th:only-of-type {\n",
       "        vertical-align: middle;\n",
       "    }\n",
       "\n",
       "    .dataframe tbody tr th {\n",
       "        vertical-align: top;\n",
       "    }\n",
       "\n",
       "    .dataframe thead th {\n",
       "        text-align: right;\n",
       "    }\n",
       "</style>\n",
       "<table border=\"1\" class=\"dataframe\">\n",
       "  <thead>\n",
       "    <tr style=\"text-align: right;\">\n",
       "      <th></th>\n",
       "      <th>id</th>\n",
       "      <th>name</th>\n",
       "      <th>date</th>\n",
       "      <th>score</th>\n",
       "      <th>source</th>\n",
       "      <th>review</th>\n",
       "      <th>ML_scores</th>\n",
       "    </tr>\n",
       "  </thead>\n",
       "  <tbody>\n",
       "    <tr>\n",
       "      <th>150</th>\n",
       "      <td>0x8834f16938b78605:0x36b4b81b302e54e</td>\n",
       "      <td>Apsara Cafe</td>\n",
       "      <td>2018-09-17 20:33:55+00:00</td>\n",
       "      <td>1</td>\n",
       "      <td>google</td>\n",
       "      <td>online days open at 11am sign outside says 113...</td>\n",
       "      <td>4</td>\n",
       "    </tr>\n",
       "    <tr>\n",
       "      <th>9063</th>\n",
       "      <td>0x89c6b3939445c60b:0x52af4ef5a308ee9e</td>\n",
       "      <td>Applebee's Grill + Bar</td>\n",
       "      <td>2019-11-19 00:42:37+00:00</td>\n",
       "      <td>1</td>\n",
       "      <td>google</td>\n",
       "      <td>the service was lousy never came back to the t...</td>\n",
       "      <td>4</td>\n",
       "    </tr>\n",
       "    <tr>\n",
       "      <th>3834</th>\n",
       "      <td>0x8834f66e5acafeb9:0x473f6d016db9d58e</td>\n",
       "      <td>Portofino's Pizza &amp; Pasta</td>\n",
       "      <td>2020-08-18 02:30:14+00:00</td>\n",
       "      <td>1</td>\n",
       "      <td>google</td>\n",
       "      <td>there cost has gone up was unbelievable the qu...</td>\n",
       "      <td>4</td>\n",
       "    </tr>\n",
       "    <tr>\n",
       "      <th>14413</th>\n",
       "      <td>0x89c9755fddec80df:0x305f8535db11f6fa</td>\n",
       "      <td>Little Vince's Pizza</td>\n",
       "      <td>2020-12-15 18:50:29+00:00</td>\n",
       "      <td>1</td>\n",
       "      <td>google</td>\n",
       "      <td>i tried calling this place after ordering onli...</td>\n",
       "      <td>4</td>\n",
       "    </tr>\n",
       "    <tr>\n",
       "      <th>379</th>\n",
       "      <td>0x89c59396104d8691:0xdb8c48eaeb27f24</td>\n",
       "      <td>Park Restaurant</td>\n",
       "      <td>2017-11-13 12:14:12+00:00</td>\n",
       "      <td>1</td>\n",
       "      <td>google</td>\n",
       "      <td>absolutely horrible place would never recommen...</td>\n",
       "      <td>4</td>\n",
       "    </tr>\n",
       "  </tbody>\n",
       "</table>\n",
       "</div>"
      ],
      "text/plain": [
       "                                          id                       name  \\\n",
       "150     0x8834f16938b78605:0x36b4b81b302e54e                Apsara Cafe   \n",
       "9063   0x89c6b3939445c60b:0x52af4ef5a308ee9e     Applebee's Grill + Bar   \n",
       "3834   0x8834f66e5acafeb9:0x473f6d016db9d58e  Portofino's Pizza & Pasta   \n",
       "14413  0x89c9755fddec80df:0x305f8535db11f6fa       Little Vince's Pizza   \n",
       "379     0x89c59396104d8691:0xdb8c48eaeb27f24            Park Restaurant   \n",
       "\n",
       "                           date  score  source  \\\n",
       "150   2018-09-17 20:33:55+00:00      1  google   \n",
       "9063  2019-11-19 00:42:37+00:00      1  google   \n",
       "3834  2020-08-18 02:30:14+00:00      1  google   \n",
       "14413 2020-12-15 18:50:29+00:00      1  google   \n",
       "379   2017-11-13 12:14:12+00:00      1  google   \n",
       "\n",
       "                                                  review  ML_scores  \n",
       "150    online days open at 11am sign outside says 113...          4  \n",
       "9063   the service was lousy never came back to the t...          4  \n",
       "3834   there cost has gone up was unbelievable the qu...          4  \n",
       "14413  i tried calling this place after ordering onli...          4  \n",
       "379    absolutely horrible place would never recommen...          4  "
      ]
     },
     "execution_count": 94,
     "metadata": {},
     "output_type": "execute_result"
    }
   ],
   "source": [
    "test1.head()"
   ]
  },
  {
   "cell_type": "code",
   "execution_count": null,
   "id": "23cb5775-a0db-4378-b6b8-8dbe71fb8d0e",
   "metadata": {},
   "outputs": [],
   "source": [
    "# A BIG QUERY\n",
    "\n",
    "reviewyelp.to_gbq(destination_table='Datawarehouse_prometheus.yelp_nlp_executed',project_id='prometheus-data-solutions', if_exists='replace')"
   ]
  },
  {
   "cell_type": "code",
   "execution_count": null,
   "id": "4357fa92-1cbe-4aac-8917-913ad563d2e7",
   "metadata": {},
   "outputs": [],
   "source": [
    "NLTK****************************************************"
   ]
  },
  {
   "cell_type": "code",
   "execution_count": 13,
   "id": "6756bd11-b05c-4f11-9c8a-5588eabaa79f",
   "metadata": {},
   "outputs": [
    {
     "name": "stderr",
     "output_type": "stream",
     "text": [
      "[nltk_data] Downloading package punkt to /home/jupyter/nltk_data...\n",
      "[nltk_data]   Unzipping tokenizers/punkt.zip.\n",
      "[nltk_data] Downloading package stopwords to\n",
      "[nltk_data]     /home/jupyter/nltk_data...\n",
      "[nltk_data]   Unzipping corpora/stopwords.zip.\n"
     ]
    }
   ],
   "source": [
    "nltk.download('punkt')\n",
    "nltk.download('stopwords')\n",
    "\n",
    "# Split the data into training and testing sets\n",
    "X_train, X_test, y_train, y_test = train_test_split(\n",
    "    reviewgoogle['comment_normalized'], reviewgoogle['stars'], test_size=0.2, random_state=42\n",
    ")\n",
    "\n",
    "# Tokenize, remove stopwords, and apply stemming\n",
    "stop_words = set(stopwords.words('english'))\n",
    "stemmer = PorterStemmer()"
   ]
  },
  {
   "cell_type": "code",
   "execution_count": 14,
   "id": "f0025906-7b7a-4f47-ac66-26b3db1a0c7b",
   "metadata": {},
   "outputs": [],
   "source": [
    "def preprocess_text(text):\n",
    "    tokens = word_tokenize(text)\n",
    "    tokens = [stemmer.stem(token) for token in tokens if token.isalpha() and token not in stop_words]\n",
    "    return ' '.join(tokens)\n",
    "\n",
    "X_train = X_train.apply(preprocess_text)\n",
    "X_test = X_test.apply(preprocess_text)\n"
   ]
  },
  {
   "cell_type": "code",
   "execution_count": 15,
   "id": "15b6a6c1-87c3-47fc-9129-fc2c5db26572",
   "metadata": {},
   "outputs": [],
   "source": [
    "# Convert sentiment scores to categorical format\n",
    "label_encoder = LabelEncoder()\n",
    "y_train_encoded = label_encoder.fit_transform(y_train)\n",
    "y_test_encoded = label_encoder.transform(y_test)\n",
    "\n",
    "# Vectorize text using TF-IDF\n",
    "vectorizer = TfidfVectorizer(max_features=5000)\n",
    "X_train_tfidf = vectorizer.fit_transform(X_train)\n",
    "X_test_tfidf = vectorizer.transform(X_test)"
   ]
  },
  {
   "cell_type": "code",
   "execution_count": 16,
   "id": "47e8cdd6-b260-4a3c-95da-fc599a222e02",
   "metadata": {},
   "outputs": [
    {
     "data": {
      "text/plain": [
       "MultinomialNB()"
      ]
     },
     "execution_count": 16,
     "metadata": {},
     "output_type": "execute_result"
    }
   ],
   "source": [
    "# Build and train the sentiment analysis model (Naive Bayes)\n",
    "model = MultinomialNB()\n",
    "model.fit(X_train_tfidf, y_train_encoded)\n"
   ]
  },
  {
   "cell_type": "code",
   "execution_count": 17,
   "id": "007a7377-f6f6-4817-8949-4859f3cacb6f",
   "metadata": {},
   "outputs": [
    {
     "name": "stdout",
     "output_type": "stream",
     "text": [
      "Test Accuracy: 67.51%\n"
     ]
    }
   ],
   "source": [
    "# Evaluate the model\n",
    "y_pred = model.predict(X_test_tfidf)\n",
    "accuracy = accuracy_score(y_test_encoded, y_pred)\n",
    "print(f\"Test Accuracy: {accuracy*100:.2f}%\")"
   ]
  },
  {
   "cell_type": "code",
   "execution_count": 18,
   "id": "d9a4f4ce-9404-4515-af52-ed4d895423df",
   "metadata": {},
   "outputs": [
    {
     "name": "stdout",
     "output_type": "stream",
     "text": [
      "Classification Report:\n",
      "              precision    recall  f1-score   support\n",
      "\n",
      "           0       0.62      0.65      0.63      3066\n",
      "           1       0.38      0.02      0.04      1700\n",
      "           2       0.47      0.18      0.26      3593\n",
      "           3       0.44      0.11      0.17      7840\n",
      "           4       0.70      0.98      0.82     24520\n",
      "\n",
      "    accuracy                           0.68     40719\n",
      "   macro avg       0.52      0.39      0.38     40719\n",
      "weighted avg       0.61      0.68      0.60     40719\n",
      "\n"
     ]
    }
   ],
   "source": [
    "# Print classification report for more detailed metrics\n",
    "print(\"Classification Report:\")\n",
    "print(classification_report(y_test_encoded, y_pred))"
   ]
  },
  {
   "cell_type": "code",
   "execution_count": 24,
   "id": "e467e562-98a3-4036-a393-a442e286e03b",
   "metadata": {},
   "outputs": [
    {
     "name": "stderr",
     "output_type": "stream",
     "text": [
      "[nltk_data] Downloading package punkt to /home/jupyter/nltk_data...\n",
      "[nltk_data]   Package punkt is already up-to-date!\n",
      "[nltk_data] Downloading package stopwords to\n",
      "[nltk_data]     /home/jupyter/nltk_data...\n",
      "[nltk_data]   Package stopwords is already up-to-date!\n"
     ]
    }
   ],
   "source": [
    "# Download NLTK resources (if not already downloaded)\n",
    "nltk.download('punkt')\n",
    "nltk.download('stopwords')\n",
    "\n",
    "# Assuming 'reviewyelp' is your new DataFrame\n",
    "# Assuming 'review' is the column with normalized text\n",
    "\n",
    "# Tokenize, remove stopwords, and apply stemming\n",
    "stop_words = set(stopwords.words('english'))\n",
    "stemmer = PorterStemmer()\n",
    "\n",
    "def preprocess_text(text):\n",
    "    tokens = word_tokenize(text)\n",
    "    tokens = [stemmer.stem(token) for token in tokens if token.isalpha() and token not in stop_words]\n",
    "    return ' '.join(tokens)\n",
    "\n",
    "# Apply preprocessing to the 'review' column in reviewyelp\n",
    "reviewyelp['review_processed'] = reviewyelp['review'].apply(preprocess_text)\n",
    "\n",
    "# Convert processed text to TF-IDF features\n",
    "X_reviewyelp_tfidf = vectorizer.transform(reviewyelp['review_processed'])\n",
    "\n",
    "# Make predictions using the trained model\n",
    "y_reviewyelp_pred = model.predict(X_reviewyelp_tfidf)\n",
    "\n",
    "# Convert predicted labels back to original scores\n",
    "y_reviewyelp_scores = label_encoder.inverse_transform(y_reviewyelp_pred)\n",
    "\n",
    "# Add 'ML_scores' column to reviewyelp with the predicted scores\n",
    "reviewyelp['ML_scores'] = y_reviewyelp_scores"
   ]
  },
  {
   "cell_type": "code",
   "execution_count": 26,
   "id": "caa7c77d-cb95-4c30-a4cd-797dbb34ebae",
   "metadata": {},
   "outputs": [
    {
     "data": {
      "text/html": [
       "<div>\n",
       "<style scoped>\n",
       "    .dataframe tbody tr th:only-of-type {\n",
       "        vertical-align: middle;\n",
       "    }\n",
       "\n",
       "    .dataframe tbody tr th {\n",
       "        vertical-align: top;\n",
       "    }\n",
       "\n",
       "    .dataframe thead th {\n",
       "        text-align: right;\n",
       "    }\n",
       "</style>\n",
       "<table border=\"1\" class=\"dataframe\">\n",
       "  <thead>\n",
       "    <tr style=\"text-align: right;\">\n",
       "      <th></th>\n",
       "      <th>id</th>\n",
       "      <th>name</th>\n",
       "      <th>date</th>\n",
       "      <th>score</th>\n",
       "      <th>source</th>\n",
       "      <th>review</th>\n",
       "      <th>review_processed</th>\n",
       "      <th>ML_scores</th>\n",
       "    </tr>\n",
       "  </thead>\n",
       "  <tbody>\n",
       "    <tr>\n",
       "      <th>0</th>\n",
       "      <td>-1owBLC2h6DF5n_j77oq3g</td>\n",
       "      <td>Hardee's</td>\n",
       "      <td>2017-06-12 16:40:53+00:00</td>\n",
       "      <td>1</td>\n",
       "      <td>yelp</td>\n",
       "      <td>excellent food and cleanliness it s not a fast...</td>\n",
       "      <td>excel food cleanli fast food servic averag wai...</td>\n",
       "      <td>3</td>\n",
       "    </tr>\n",
       "    <tr>\n",
       "      <th>1</th>\n",
       "      <td>-PMXnNJ1D67NkAupRHNkpQ</td>\n",
       "      <td>Domino's Pizza</td>\n",
       "      <td>2018-12-29 06:58:04+00:00</td>\n",
       "      <td>1</td>\n",
       "      <td>yelp</td>\n",
       "      <td>4 minutes ago they told me my order is in the ...</td>\n",
       "      <td>minut ago told order oven minut later cancel o...</td>\n",
       "      <td>1</td>\n",
       "    </tr>\n",
       "    <tr>\n",
       "      <th>2</th>\n",
       "      <td>-PMXnNJ1D67NkAupRHNkpQ</td>\n",
       "      <td>Domino's Pizza</td>\n",
       "      <td>2020-02-22 18:13:02+00:00</td>\n",
       "      <td>1</td>\n",
       "      <td>yelp</td>\n",
       "      <td>they reached out to me apologizing for the pro...</td>\n",
       "      <td>reach apolog problem happen offer free pizza g...</td>\n",
       "      <td>1</td>\n",
       "    </tr>\n",
       "    <tr>\n",
       "      <th>3</th>\n",
       "      <td>-Pd_tj2g-SGmOeVy718PPA</td>\n",
       "      <td>Pizza Hut</td>\n",
       "      <td>2019-03-02 01:15:15+00:00</td>\n",
       "      <td>1</td>\n",
       "      <td>yelp</td>\n",
       "      <td>i just can t give this more than one star if y...</td>\n",
       "      <td>give one star hunger pizza hut pizza like go p...</td>\n",
       "      <td>5</td>\n",
       "    </tr>\n",
       "    <tr>\n",
       "      <th>4</th>\n",
       "      <td>-T_lkOvaK39R-Ufg6VUyxg</td>\n",
       "      <td>Magpie</td>\n",
       "      <td>2016-10-28 22:51:12+00:00</td>\n",
       "      <td>1</td>\n",
       "      <td>yelp</td>\n",
       "      <td>unfortunately i cannot rate the food here as i...</td>\n",
       "      <td>unfortun rate food opportun tri rate custom se...</td>\n",
       "      <td>1</td>\n",
       "    </tr>\n",
       "    <tr>\n",
       "      <th>...</th>\n",
       "      <td>...</td>\n",
       "      <td>...</td>\n",
       "      <td>...</td>\n",
       "      <td>...</td>\n",
       "      <td>...</td>\n",
       "      <td>...</td>\n",
       "      <td>...</td>\n",
       "      <td>...</td>\n",
       "    </tr>\n",
       "    <tr>\n",
       "      <th>1983484</th>\n",
       "      <td>zutnb4ogWkJuEd3ZyXk3BQ</td>\n",
       "      <td>Lansdale Meats and Deli</td>\n",
       "      <td>2017-05-21 11:18:57+00:00</td>\n",
       "      <td>5</td>\n",
       "      <td>yelp</td>\n",
       "      <td>this is my go to place for all of my cuts of m...</td>\n",
       "      <td>go place cut meat alway fresh low price find s...</td>\n",
       "      <td>5</td>\n",
       "    </tr>\n",
       "    <tr>\n",
       "      <th>1983485</th>\n",
       "      <td>zxPcNvM4aPZu6gUmTFkazQ</td>\n",
       "      <td>Wok Chi</td>\n",
       "      <td>2014-11-28 18:49:16+00:00</td>\n",
       "      <td>5</td>\n",
       "      <td>yelp</td>\n",
       "      <td>the food was pretty good i had the spicy szech...</td>\n",
       "      <td>food pretti good spici szechuan sauc chicken e...</td>\n",
       "      <td>5</td>\n",
       "    </tr>\n",
       "    <tr>\n",
       "      <th>1983486</th>\n",
       "      <td>zxPcNvM4aPZu6gUmTFkazQ</td>\n",
       "      <td>Wok Chi</td>\n",
       "      <td>2014-11-28 18:49:16+00:00</td>\n",
       "      <td>5</td>\n",
       "      <td>yelp</td>\n",
       "      <td>the food was pretty good i had the spicy szech...</td>\n",
       "      <td>food pretti good spici szechuan sauc chicken e...</td>\n",
       "      <td>5</td>\n",
       "    </tr>\n",
       "    <tr>\n",
       "      <th>1983487</th>\n",
       "      <td>zxuVnNVAUm16Sro0dS_lmg</td>\n",
       "      <td>Roundabout Grill</td>\n",
       "      <td>2017-08-05 05:40:24+00:00</td>\n",
       "      <td>5</td>\n",
       "      <td>yelp</td>\n",
       "      <td>my boyfriend and i absolutely loved our experi...</td>\n",
       "      <td>boyfriend absolut love experi waiter wonder su...</td>\n",
       "      <td>5</td>\n",
       "    </tr>\n",
       "    <tr>\n",
       "      <th>1983488</th>\n",
       "      <td>zxuVnNVAUm16Sro0dS_lmg</td>\n",
       "      <td>Roundabout Grill</td>\n",
       "      <td>2017-01-28 05:52:54+00:00</td>\n",
       "      <td>5</td>\n",
       "      <td>yelp</td>\n",
       "      <td>steven is making sure vegas people are taken c...</td>\n",
       "      <td>steven make sure vega peopl taken care star jo...</td>\n",
       "      <td>5</td>\n",
       "    </tr>\n",
       "  </tbody>\n",
       "</table>\n",
       "<p>1983489 rows × 8 columns</p>\n",
       "</div>"
      ],
      "text/plain": [
       "                             id                     name  \\\n",
       "0        -1owBLC2h6DF5n_j77oq3g                 Hardee's   \n",
       "1        -PMXnNJ1D67NkAupRHNkpQ           Domino's Pizza   \n",
       "2        -PMXnNJ1D67NkAupRHNkpQ           Domino's Pizza   \n",
       "3        -Pd_tj2g-SGmOeVy718PPA                Pizza Hut   \n",
       "4        -T_lkOvaK39R-Ufg6VUyxg                   Magpie   \n",
       "...                         ...                      ...   \n",
       "1983484  zutnb4ogWkJuEd3ZyXk3BQ  Lansdale Meats and Deli   \n",
       "1983485  zxPcNvM4aPZu6gUmTFkazQ                  Wok Chi   \n",
       "1983486  zxPcNvM4aPZu6gUmTFkazQ                  Wok Chi   \n",
       "1983487  zxuVnNVAUm16Sro0dS_lmg         Roundabout Grill   \n",
       "1983488  zxuVnNVAUm16Sro0dS_lmg         Roundabout Grill   \n",
       "\n",
       "                             date  score source  \\\n",
       "0       2017-06-12 16:40:53+00:00      1   yelp   \n",
       "1       2018-12-29 06:58:04+00:00      1   yelp   \n",
       "2       2020-02-22 18:13:02+00:00      1   yelp   \n",
       "3       2019-03-02 01:15:15+00:00      1   yelp   \n",
       "4       2016-10-28 22:51:12+00:00      1   yelp   \n",
       "...                           ...    ...    ...   \n",
       "1983484 2017-05-21 11:18:57+00:00      5   yelp   \n",
       "1983485 2014-11-28 18:49:16+00:00      5   yelp   \n",
       "1983486 2014-11-28 18:49:16+00:00      5   yelp   \n",
       "1983487 2017-08-05 05:40:24+00:00      5   yelp   \n",
       "1983488 2017-01-28 05:52:54+00:00      5   yelp   \n",
       "\n",
       "                                                    review  \\\n",
       "0        excellent food and cleanliness it s not a fast...   \n",
       "1        4 minutes ago they told me my order is in the ...   \n",
       "2        they reached out to me apologizing for the pro...   \n",
       "3        i just can t give this more than one star if y...   \n",
       "4        unfortunately i cannot rate the food here as i...   \n",
       "...                                                    ...   \n",
       "1983484  this is my go to place for all of my cuts of m...   \n",
       "1983485  the food was pretty good i had the spicy szech...   \n",
       "1983486  the food was pretty good i had the spicy szech...   \n",
       "1983487  my boyfriend and i absolutely loved our experi...   \n",
       "1983488  steven is making sure vegas people are taken c...   \n",
       "\n",
       "                                          review_processed ML_scores  \n",
       "0        excel food cleanli fast food servic averag wai...         3  \n",
       "1        minut ago told order oven minut later cancel o...         1  \n",
       "2        reach apolog problem happen offer free pizza g...         1  \n",
       "3        give one star hunger pizza hut pizza like go p...         5  \n",
       "4        unfortun rate food opportun tri rate custom se...         1  \n",
       "...                                                    ...       ...  \n",
       "1983484  go place cut meat alway fresh low price find s...         5  \n",
       "1983485  food pretti good spici szechuan sauc chicken e...         5  \n",
       "1983486  food pretti good spici szechuan sauc chicken e...         5  \n",
       "1983487  boyfriend absolut love experi waiter wonder su...         5  \n",
       "1983488  steven make sure vega peopl taken care star jo...         5  \n",
       "\n",
       "[1983489 rows x 8 columns]"
      ]
     },
     "execution_count": 26,
     "metadata": {},
     "output_type": "execute_result"
    }
   ],
   "source": [
    "reviewyelp"
   ]
  }
 ],
 "metadata": {
  "environment": {
   "kernel": "python3",
   "name": "tf2-cpu.2-11.m112",
   "type": "gcloud",
   "uri": "gcr.io/deeplearning-platform-release/tf2-cpu.2-11:m112"
  },
  "kernelspec": {
   "display_name": "Python 3",
   "language": "python",
   "name": "python3"
  },
  "language_info": {
   "codemirror_mode": {
    "name": "ipython",
    "version": 3
   },
   "file_extension": ".py",
   "mimetype": "text/x-python",
   "name": "python",
   "nbconvert_exporter": "python",
   "pygments_lexer": "ipython3",
   "version": "3.7.12"
  }
 },
 "nbformat": 4,
 "nbformat_minor": 5
}
