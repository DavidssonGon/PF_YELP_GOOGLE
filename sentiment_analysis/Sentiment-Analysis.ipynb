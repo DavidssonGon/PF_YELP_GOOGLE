{
 "cells": [
  {
   "cell_type": "code",
   "execution_count": 121,
   "id": "442f679d-9ae5-4f55-b11b-846538ac4816",
   "metadata": {
    "collapsed": true,
    "jupyter": {
     "outputs_hidden": true
    },
    "tags": []
   },
   "outputs": [
    {
     "name": "stdout",
     "output_type": "stream",
     "text": [
      "Collecting textblob\n",
      "  Downloading textblob-0.17.1-py2.py3-none-any.whl (636 kB)\n",
      "\u001b[2K     \u001b[90m━━━━━━━━━━━━━━━━━━━━━━━━━━━━━━━━━━━━━━━\u001b[0m \u001b[32m636.8/636.8 kB\u001b[0m \u001b[31m3.8 MB/s\u001b[0m eta \u001b[36m0:00:00\u001b[0m00:01\u001b[0m00:01\u001b[0m\n",
      "\u001b[?25hRequirement already satisfied: nltk>=3.1 in /opt/conda/lib/python3.7/site-packages (from textblob) (3.8.1)\n",
      "Requirement already satisfied: click in /opt/conda/lib/python3.7/site-packages (from nltk>=3.1->textblob) (8.1.7)\n",
      "Requirement already satisfied: joblib in /opt/conda/lib/python3.7/site-packages (from nltk>=3.1->textblob) (1.3.2)\n",
      "Requirement already satisfied: regex>=2021.8.3 in /opt/conda/lib/python3.7/site-packages (from nltk>=3.1->textblob) (2023.8.8)\n",
      "Requirement already satisfied: tqdm in /opt/conda/lib/python3.7/site-packages (from nltk>=3.1->textblob) (4.66.1)\n",
      "Requirement already satisfied: importlib-metadata in /opt/conda/lib/python3.7/site-packages (from click->nltk>=3.1->textblob) (4.11.4)\n",
      "Requirement already satisfied: zipp>=0.5 in /opt/conda/lib/python3.7/site-packages (from importlib-metadata->click->nltk>=3.1->textblob) (3.15.0)\n",
      "Requirement already satisfied: typing-extensions>=3.6.4 in /opt/conda/lib/python3.7/site-packages (from importlib-metadata->click->nltk>=3.1->textblob) (4.7.1)\n",
      "Installing collected packages: textblob\n",
      "Successfully installed textblob-0.17.1\n",
      "Note: you may need to restart the kernel to use updated packages.\n"
     ]
    }
   ],
   "source": [
    "pip install textblob"
   ]
  },
  {
   "cell_type": "code",
   "execution_count": 1,
   "id": "4423a446-999d-4a93-9c2d-8cc2915aba8a",
   "metadata": {
    "collapsed": true,
    "jupyter": {
     "outputs_hidden": true
    },
    "tags": []
   },
   "outputs": [
    {
     "name": "stdout",
     "output_type": "stream",
     "text": [
      "Requirement already satisfied: pandas-gbq in /opt/conda/lib/python3.7/site-packages (0.20.0)\n",
      "Requirement already satisfied: setuptools in /opt/conda/lib/python3.7/site-packages (from pandas-gbq) (68.2.2)\n",
      "Requirement already satisfied: db-dtypes<2.0.0,>=1.0.4 in /opt/conda/lib/python3.7/site-packages (from pandas-gbq) (1.1.1)\n",
      "Requirement already satisfied: numpy>=1.16.6 in /opt/conda/lib/python3.7/site-packages (from pandas-gbq) (1.21.6)\n",
      "Requirement already satisfied: pandas>=1.1.4 in /opt/conda/lib/python3.7/site-packages (from pandas-gbq) (1.3.5)\n",
      "Requirement already satisfied: pyarrow>=3.0.0 in /opt/conda/lib/python3.7/site-packages (from pandas-gbq) (6.0.1)\n",
      "Requirement already satisfied: pydata-google-auth>=1.5.0 in /opt/conda/lib/python3.7/site-packages (from pandas-gbq) (1.8.2)\n",
      "Requirement already satisfied: google-api-core<3.0.0dev,>=2.10.2 in /opt/conda/lib/python3.7/site-packages (from pandas-gbq) (2.15.0)\n",
      "Requirement already satisfied: google-auth>=2.13.0 in /opt/conda/lib/python3.7/site-packages (from pandas-gbq) (2.23.0)\n",
      "Requirement already satisfied: google-auth-oauthlib>=0.7.0 in /opt/conda/lib/python3.7/site-packages (from pandas-gbq) (1.2.0)\n",
      "Requirement already satisfied: google-cloud-bigquery!=2.4.*,<4.0.0dev,>=3.3.5 in /opt/conda/lib/python3.7/site-packages (from pandas-gbq) (3.11.4)\n",
      "Requirement already satisfied: google-cloud-bigquery-storage<3.0.0dev,>=2.16.2 in /opt/conda/lib/python3.7/site-packages (from pandas-gbq) (2.16.2)\n",
      "Requirement already satisfied: packaging>=20.0.0 in /opt/conda/lib/python3.7/site-packages (from pandas-gbq) (23.1)\n",
      "Requirement already satisfied: googleapis-common-protos<2.0.dev0,>=1.56.2 in /opt/conda/lib/python3.7/site-packages (from google-api-core<3.0.0dev,>=2.10.2->pandas-gbq) (1.56.4)\n",
      "Requirement already satisfied: protobuf!=3.20.0,!=3.20.1,!=4.21.0,!=4.21.1,!=4.21.2,!=4.21.3,!=4.21.4,!=4.21.5,<5.0.0.dev0,>=3.19.5 in /opt/conda/lib/python3.7/site-packages (from google-api-core<3.0.0dev,>=2.10.2->pandas-gbq) (3.19.6)\n",
      "Requirement already satisfied: requests<3.0.0.dev0,>=2.18.0 in /opt/conda/lib/python3.7/site-packages (from google-api-core<3.0.0dev,>=2.10.2->pandas-gbq) (2.31.0)\n",
      "Requirement already satisfied: cachetools<6.0,>=2.0.0 in /opt/conda/lib/python3.7/site-packages (from google-auth>=2.13.0->pandas-gbq) (4.2.4)\n",
      "Requirement already satisfied: pyasn1-modules>=0.2.1 in /opt/conda/lib/python3.7/site-packages (from google-auth>=2.13.0->pandas-gbq) (0.3.0)\n",
      "Requirement already satisfied: rsa<5,>=3.1.4 in /opt/conda/lib/python3.7/site-packages (from google-auth>=2.13.0->pandas-gbq) (4.9)\n",
      "Requirement already satisfied: urllib3<2.0 in /opt/conda/lib/python3.7/site-packages (from google-auth>=2.13.0->pandas-gbq) (1.26.16)\n",
      "Requirement already satisfied: requests-oauthlib>=0.7.0 in /opt/conda/lib/python3.7/site-packages (from google-auth-oauthlib>=0.7.0->pandas-gbq) (1.3.1)\n",
      "Requirement already satisfied: grpcio<2.0dev,>=1.47.0 in /opt/conda/lib/python3.7/site-packages (from google-cloud-bigquery!=2.4.*,<4.0.0dev,>=3.3.5->pandas-gbq) (1.48.1)\n",
      "Requirement already satisfied: proto-plus<2.0.0dev,>=1.15.0 in /opt/conda/lib/python3.7/site-packages (from google-cloud-bigquery!=2.4.*,<4.0.0dev,>=3.3.5->pandas-gbq) (1.22.3)\n",
      "Requirement already satisfied: google-cloud-core<3.0.0dev,>=1.6.0 in /opt/conda/lib/python3.7/site-packages (from google-cloud-bigquery!=2.4.*,<4.0.0dev,>=3.3.5->pandas-gbq) (2.3.3)\n",
      "Requirement already satisfied: google-resumable-media<3.0dev,>=0.6.0 in /opt/conda/lib/python3.7/site-packages (from google-cloud-bigquery!=2.4.*,<4.0.0dev,>=3.3.5->pandas-gbq) (2.6.0)\n",
      "Requirement already satisfied: python-dateutil<3.0dev,>=2.7.2 in /opt/conda/lib/python3.7/site-packages (from google-cloud-bigquery!=2.4.*,<4.0.0dev,>=3.3.5->pandas-gbq) (2.8.2)\n",
      "Requirement already satisfied: pytz>=2017.3 in /opt/conda/lib/python3.7/site-packages (from pandas>=1.1.4->pandas-gbq) (2023.3.post1)\n",
      "Requirement already satisfied: grpcio-status<2.0.dev0,>=1.33.2 in /opt/conda/lib/python3.7/site-packages (from google-api-core<3.0.0dev,>=2.10.2->pandas-gbq) (1.48.1)\n",
      "Requirement already satisfied: google-crc32c<2.0dev,>=1.0 in /opt/conda/lib/python3.7/site-packages (from google-resumable-media<3.0dev,>=0.6.0->google-cloud-bigquery!=2.4.*,<4.0.0dev,>=3.3.5->pandas-gbq) (1.5.0)\n",
      "Requirement already satisfied: six>=1.5.2 in /opt/conda/lib/python3.7/site-packages (from grpcio<2.0dev,>=1.47.0->google-cloud-bigquery!=2.4.*,<4.0.0dev,>=3.3.5->pandas-gbq) (1.16.0)\n",
      "Requirement already satisfied: pyasn1<0.6.0,>=0.4.6 in /opt/conda/lib/python3.7/site-packages (from pyasn1-modules>=0.2.1->google-auth>=2.13.0->pandas-gbq) (0.5.0)\n",
      "Requirement already satisfied: charset-normalizer<4,>=2 in /opt/conda/lib/python3.7/site-packages (from requests<3.0.0.dev0,>=2.18.0->google-api-core<3.0.0dev,>=2.10.2->pandas-gbq) (2.1.1)\n",
      "Requirement already satisfied: idna<4,>=2.5 in /opt/conda/lib/python3.7/site-packages (from requests<3.0.0.dev0,>=2.18.0->google-api-core<3.0.0dev,>=2.10.2->pandas-gbq) (3.4)\n",
      "Requirement already satisfied: certifi>=2017.4.17 in /opt/conda/lib/python3.7/site-packages (from requests<3.0.0.dev0,>=2.18.0->google-api-core<3.0.0dev,>=2.10.2->pandas-gbq) (2023.7.22)\n",
      "Requirement already satisfied: oauthlib>=3.0.0 in /opt/conda/lib/python3.7/site-packages (from requests-oauthlib>=0.7.0->google-auth-oauthlib>=0.7.0->pandas-gbq) (3.2.2)\n"
     ]
    }
   ],
   "source": [
    "!pip install pandas-gbq\n"
   ]
  },
  {
   "cell_type": "code",
   "execution_count": 2,
   "id": "9926c2a5-5651-425f-8167-d1481f1a2275",
   "metadata": {
    "collapsed": true,
    "jupyter": {
     "outputs_hidden": true
    },
    "tags": []
   },
   "outputs": [
    {
     "name": "stdout",
     "output_type": "stream",
     "text": [
      "Requirement already satisfied: tensorflow in /opt/conda/lib/python3.7/site-packages (2.11.0)\n",
      "Requirement already satisfied: absl-py>=1.0.0 in /opt/conda/lib/python3.7/site-packages (from tensorflow) (1.4.0)\n",
      "Requirement already satisfied: astunparse>=1.6.0 in /opt/conda/lib/python3.7/site-packages (from tensorflow) (1.6.3)\n",
      "Requirement already satisfied: flatbuffers>=2.0 in /opt/conda/lib/python3.7/site-packages (from tensorflow) (23.5.26)\n",
      "Requirement already satisfied: gast<=0.4.0,>=0.2.1 in /opt/conda/lib/python3.7/site-packages (from tensorflow) (0.4.0)\n",
      "Requirement already satisfied: google-pasta>=0.1.1 in /opt/conda/lib/python3.7/site-packages (from tensorflow) (0.2.0)\n",
      "Requirement already satisfied: grpcio<2.0,>=1.24.3 in /opt/conda/lib/python3.7/site-packages (from tensorflow) (1.48.1)\n",
      "Requirement already satisfied: h5py>=2.9.0 in /opt/conda/lib/python3.7/site-packages (from tensorflow) (3.8.0)\n",
      "Requirement already satisfied: keras<2.12,>=2.11.0 in /opt/conda/lib/python3.7/site-packages (from tensorflow) (2.11.0)\n",
      "Requirement already satisfied: libclang>=13.0.0 in /opt/conda/lib/python3.7/site-packages (from tensorflow) (16.0.6)\n",
      "Requirement already satisfied: numpy>=1.20 in /opt/conda/lib/python3.7/site-packages (from tensorflow) (1.21.6)\n",
      "Requirement already satisfied: opt-einsum>=2.3.2 in /opt/conda/lib/python3.7/site-packages (from tensorflow) (3.3.0)\n",
      "Requirement already satisfied: packaging in /opt/conda/lib/python3.7/site-packages (from tensorflow) (23.1)\n",
      "Requirement already satisfied: protobuf<3.20,>=3.9.2 in /opt/conda/lib/python3.7/site-packages (from tensorflow) (3.19.6)\n",
      "Requirement already satisfied: setuptools in /opt/conda/lib/python3.7/site-packages (from tensorflow) (68.2.2)\n",
      "Requirement already satisfied: six>=1.12.0 in /opt/conda/lib/python3.7/site-packages (from tensorflow) (1.16.0)\n",
      "Requirement already satisfied: tensorboard<2.12,>=2.11 in /opt/conda/lib/python3.7/site-packages (from tensorflow) (2.11.2)\n",
      "Requirement already satisfied: tensorflow-estimator<2.12,>=2.11.0 in /opt/conda/lib/python3.7/site-packages (from tensorflow) (2.11.0)\n",
      "Requirement already satisfied: termcolor>=1.1.0 in /opt/conda/lib/python3.7/site-packages (from tensorflow) (2.3.0)\n",
      "Requirement already satisfied: typing-extensions>=3.6.6 in /opt/conda/lib/python3.7/site-packages (from tensorflow) (4.7.1)\n",
      "Requirement already satisfied: wrapt>=1.11.0 in /opt/conda/lib/python3.7/site-packages (from tensorflow) (1.15.0)\n",
      "Requirement already satisfied: tensorflow-io-gcs-filesystem>=0.23.1 in /opt/conda/lib/python3.7/site-packages (from tensorflow) (0.29.0)\n",
      "Requirement already satisfied: wheel<1.0,>=0.23.0 in /opt/conda/lib/python3.7/site-packages (from astunparse>=1.6.0->tensorflow) (0.41.2)\n",
      "Requirement already satisfied: google-auth<3,>=1.6.3 in /opt/conda/lib/python3.7/site-packages (from tensorboard<2.12,>=2.11->tensorflow) (2.23.0)\n",
      "Collecting google-auth-oauthlib<0.5,>=0.4.1 (from tensorboard<2.12,>=2.11->tensorflow)\n",
      "  Using cached google_auth_oauthlib-0.4.6-py2.py3-none-any.whl (18 kB)\n",
      "Requirement already satisfied: markdown>=2.6.8 in /opt/conda/lib/python3.7/site-packages (from tensorboard<2.12,>=2.11->tensorflow) (3.4.4)\n",
      "Requirement already satisfied: requests<3,>=2.21.0 in /opt/conda/lib/python3.7/site-packages (from tensorboard<2.12,>=2.11->tensorflow) (2.31.0)\n",
      "Requirement already satisfied: tensorboard-data-server<0.7.0,>=0.6.0 in /opt/conda/lib/python3.7/site-packages (from tensorboard<2.12,>=2.11->tensorflow) (0.6.1)\n",
      "Requirement already satisfied: tensorboard-plugin-wit>=1.6.0 in /opt/conda/lib/python3.7/site-packages (from tensorboard<2.12,>=2.11->tensorflow) (1.8.1)\n",
      "Requirement already satisfied: werkzeug>=1.0.1 in /opt/conda/lib/python3.7/site-packages (from tensorboard<2.12,>=2.11->tensorflow) (2.1.2)\n",
      "Requirement already satisfied: cachetools<6.0,>=2.0.0 in /opt/conda/lib/python3.7/site-packages (from google-auth<3,>=1.6.3->tensorboard<2.12,>=2.11->tensorflow) (4.2.4)\n",
      "Requirement already satisfied: pyasn1-modules>=0.2.1 in /opt/conda/lib/python3.7/site-packages (from google-auth<3,>=1.6.3->tensorboard<2.12,>=2.11->tensorflow) (0.3.0)\n",
      "Requirement already satisfied: rsa<5,>=3.1.4 in /opt/conda/lib/python3.7/site-packages (from google-auth<3,>=1.6.3->tensorboard<2.12,>=2.11->tensorflow) (4.9)\n",
      "Requirement already satisfied: urllib3<2.0 in /opt/conda/lib/python3.7/site-packages (from google-auth<3,>=1.6.3->tensorboard<2.12,>=2.11->tensorflow) (1.26.16)\n",
      "Requirement already satisfied: requests-oauthlib>=0.7.0 in /opt/conda/lib/python3.7/site-packages (from google-auth-oauthlib<0.5,>=0.4.1->tensorboard<2.12,>=2.11->tensorflow) (1.3.1)\n",
      "Requirement already satisfied: importlib-metadata>=4.4 in /opt/conda/lib/python3.7/site-packages (from markdown>=2.6.8->tensorboard<2.12,>=2.11->tensorflow) (4.11.4)\n",
      "Requirement already satisfied: charset-normalizer<4,>=2 in /opt/conda/lib/python3.7/site-packages (from requests<3,>=2.21.0->tensorboard<2.12,>=2.11->tensorflow) (2.1.1)\n",
      "Requirement already satisfied: idna<4,>=2.5 in /opt/conda/lib/python3.7/site-packages (from requests<3,>=2.21.0->tensorboard<2.12,>=2.11->tensorflow) (3.4)\n",
      "Requirement already satisfied: certifi>=2017.4.17 in /opt/conda/lib/python3.7/site-packages (from requests<3,>=2.21.0->tensorboard<2.12,>=2.11->tensorflow) (2023.7.22)\n",
      "Requirement already satisfied: zipp>=0.5 in /opt/conda/lib/python3.7/site-packages (from importlib-metadata>=4.4->markdown>=2.6.8->tensorboard<2.12,>=2.11->tensorflow) (3.15.0)\n",
      "Requirement already satisfied: pyasn1<0.6.0,>=0.4.6 in /opt/conda/lib/python3.7/site-packages (from pyasn1-modules>=0.2.1->google-auth<3,>=1.6.3->tensorboard<2.12,>=2.11->tensorflow) (0.5.0)\n",
      "Requirement already satisfied: oauthlib>=3.0.0 in /opt/conda/lib/python3.7/site-packages (from requests-oauthlib>=0.7.0->google-auth-oauthlib<0.5,>=0.4.1->tensorboard<2.12,>=2.11->tensorflow) (3.2.2)\n",
      "Installing collected packages: google-auth-oauthlib\n",
      "  Attempting uninstall: google-auth-oauthlib\n",
      "    Found existing installation: google-auth-oauthlib 1.2.0\n",
      "    Uninstalling google-auth-oauthlib-1.2.0:\n",
      "      Successfully uninstalled google-auth-oauthlib-1.2.0\n",
      "\u001b[31mERROR: pip's dependency resolver does not currently take into account all the packages that are installed. This behaviour is the source of the following dependency conflicts.\n",
      "pandas-gbq 0.20.0 requires google-auth-oauthlib>=0.7.0, but you have google-auth-oauthlib 0.4.6 which is incompatible.\u001b[0m\u001b[31m\n",
      "\u001b[0mSuccessfully installed google-auth-oauthlib-0.4.6\n",
      "Note: you may need to restart the kernel to use updated packages.\n"
     ]
    }
   ],
   "source": [
    "pip install tensorflow\n"
   ]
  },
  {
   "cell_type": "code",
   "execution_count": 3,
   "id": "8a2dfea5-ced4-489b-89b9-e2ac8d573d73",
   "metadata": {
    "collapsed": true,
    "jupyter": {
     "outputs_hidden": true
    },
    "tags": []
   },
   "outputs": [
    {
     "name": "stdout",
     "output_type": "stream",
     "text": [
      "Requirement already satisfied: transformers in /opt/conda/lib/python3.7/site-packages (4.30.2)\n",
      "Requirement already satisfied: filelock in /opt/conda/lib/python3.7/site-packages (from transformers) (3.12.2)\n",
      "Requirement already satisfied: huggingface-hub<1.0,>=0.14.1 in /opt/conda/lib/python3.7/site-packages (from transformers) (0.16.4)\n",
      "Requirement already satisfied: numpy>=1.17 in /opt/conda/lib/python3.7/site-packages (from transformers) (1.21.6)\n",
      "Requirement already satisfied: packaging>=20.0 in /opt/conda/lib/python3.7/site-packages (from transformers) (23.1)\n",
      "Requirement already satisfied: pyyaml>=5.1 in /opt/conda/lib/python3.7/site-packages (from transformers) (6.0.1)\n",
      "Requirement already satisfied: regex!=2019.12.17 in /opt/conda/lib/python3.7/site-packages (from transformers) (2023.8.8)\n",
      "Requirement already satisfied: requests in /opt/conda/lib/python3.7/site-packages (from transformers) (2.31.0)\n",
      "Requirement already satisfied: tokenizers!=0.11.3,<0.14,>=0.11.1 in /opt/conda/lib/python3.7/site-packages (from transformers) (0.13.3)\n",
      "Requirement already satisfied: safetensors>=0.3.1 in /opt/conda/lib/python3.7/site-packages (from transformers) (0.4.1)\n",
      "Requirement already satisfied: tqdm>=4.27 in /opt/conda/lib/python3.7/site-packages (from transformers) (4.66.1)\n",
      "Requirement already satisfied: importlib-metadata in /opt/conda/lib/python3.7/site-packages (from transformers) (4.11.4)\n",
      "Requirement already satisfied: fsspec in /opt/conda/lib/python3.7/site-packages (from huggingface-hub<1.0,>=0.14.1->transformers) (2023.1.0)\n",
      "Requirement already satisfied: typing-extensions>=3.7.4.3 in /opt/conda/lib/python3.7/site-packages (from huggingface-hub<1.0,>=0.14.1->transformers) (4.7.1)\n",
      "Requirement already satisfied: zipp>=0.5 in /opt/conda/lib/python3.7/site-packages (from importlib-metadata->transformers) (3.15.0)\n",
      "Requirement already satisfied: charset-normalizer<4,>=2 in /opt/conda/lib/python3.7/site-packages (from requests->transformers) (2.1.1)\n",
      "Requirement already satisfied: idna<4,>=2.5 in /opt/conda/lib/python3.7/site-packages (from requests->transformers) (3.4)\n",
      "Requirement already satisfied: urllib3<3,>=1.21.1 in /opt/conda/lib/python3.7/site-packages (from requests->transformers) (1.26.16)\n",
      "Requirement already satisfied: certifi>=2017.4.17 in /opt/conda/lib/python3.7/site-packages (from requests->transformers) (2023.7.22)\n",
      "Note: you may need to restart the kernel to use updated packages.\n"
     ]
    }
   ],
   "source": [
    "pip install transformers\n"
   ]
  },
  {
   "cell_type": "code",
   "execution_count": 4,
   "id": "7bce81a5-8eaa-4213-bf37-d69ce59d521c",
   "metadata": {
    "collapsed": true,
    "jupyter": {
     "outputs_hidden": true
    },
    "tags": []
   },
   "outputs": [
    {
     "name": "stdout",
     "output_type": "stream",
     "text": [
      "Requirement already satisfied: matplotlib in /opt/conda/lib/python3.7/site-packages (3.5.3)\n",
      "Requirement already satisfied: seaborn in /opt/conda/lib/python3.7/site-packages (0.12.2)\n",
      "Requirement already satisfied: cycler>=0.10 in /opt/conda/lib/python3.7/site-packages (from matplotlib) (0.11.0)\n",
      "Requirement already satisfied: fonttools>=4.22.0 in /opt/conda/lib/python3.7/site-packages (from matplotlib) (4.38.0)\n",
      "Requirement already satisfied: kiwisolver>=1.0.1 in /opt/conda/lib/python3.7/site-packages (from matplotlib) (1.4.5)\n",
      "Requirement already satisfied: numpy>=1.17 in /opt/conda/lib/python3.7/site-packages (from matplotlib) (1.21.6)\n",
      "Requirement already satisfied: packaging>=20.0 in /opt/conda/lib/python3.7/site-packages (from matplotlib) (23.1)\n",
      "Requirement already satisfied: pillow>=6.2.0 in /opt/conda/lib/python3.7/site-packages (from matplotlib) (9.5.0)\n",
      "Requirement already satisfied: pyparsing>=2.2.1 in /opt/conda/lib/python3.7/site-packages (from matplotlib) (3.1.1)\n",
      "Requirement already satisfied: python-dateutil>=2.7 in /opt/conda/lib/python3.7/site-packages (from matplotlib) (2.8.2)\n",
      "Requirement already satisfied: pandas>=0.25 in /opt/conda/lib/python3.7/site-packages (from seaborn) (1.3.5)\n",
      "Requirement already satisfied: typing_extensions in /opt/conda/lib/python3.7/site-packages (from seaborn) (4.7.1)\n",
      "Requirement already satisfied: pytz>=2017.3 in /opt/conda/lib/python3.7/site-packages (from pandas>=0.25->seaborn) (2023.3.post1)\n",
      "Requirement already satisfied: six>=1.5 in /opt/conda/lib/python3.7/site-packages (from python-dateutil>=2.7->matplotlib) (1.16.0)\n",
      "Note: you may need to restart the kernel to use updated packages.\n"
     ]
    }
   ],
   "source": [
    "pip install matplotlib seaborn"
   ]
  },
  {
   "cell_type": "code",
   "execution_count": 5,
   "id": "c1273781-2c19-4870-b377-844bc85e798f",
   "metadata": {
    "collapsed": true,
    "jupyter": {
     "outputs_hidden": true
    },
    "tags": []
   },
   "outputs": [
    {
     "name": "stdout",
     "output_type": "stream",
     "text": [
      "Requirement already satisfied: transformers in /opt/conda/lib/python3.7/site-packages (4.30.2)\n",
      "Requirement already satisfied: filelock in /opt/conda/lib/python3.7/site-packages (from transformers) (3.12.2)\n",
      "Requirement already satisfied: huggingface-hub<1.0,>=0.14.1 in /opt/conda/lib/python3.7/site-packages (from transformers) (0.16.4)\n",
      "Requirement already satisfied: numpy>=1.17 in /opt/conda/lib/python3.7/site-packages (from transformers) (1.21.6)\n",
      "Requirement already satisfied: packaging>=20.0 in /opt/conda/lib/python3.7/site-packages (from transformers) (23.1)\n",
      "Requirement already satisfied: pyyaml>=5.1 in /opt/conda/lib/python3.7/site-packages (from transformers) (6.0.1)\n",
      "Requirement already satisfied: regex!=2019.12.17 in /opt/conda/lib/python3.7/site-packages (from transformers) (2023.8.8)\n",
      "Requirement already satisfied: requests in /opt/conda/lib/python3.7/site-packages (from transformers) (2.31.0)\n",
      "Requirement already satisfied: tokenizers!=0.11.3,<0.14,>=0.11.1 in /opt/conda/lib/python3.7/site-packages (from transformers) (0.13.3)\n",
      "Requirement already satisfied: safetensors>=0.3.1 in /opt/conda/lib/python3.7/site-packages (from transformers) (0.4.1)\n",
      "Requirement already satisfied: tqdm>=4.27 in /opt/conda/lib/python3.7/site-packages (from transformers) (4.66.1)\n",
      "Requirement already satisfied: importlib-metadata in /opt/conda/lib/python3.7/site-packages (from transformers) (4.11.4)\n",
      "Requirement already satisfied: fsspec in /opt/conda/lib/python3.7/site-packages (from huggingface-hub<1.0,>=0.14.1->transformers) (2023.1.0)\n",
      "Requirement already satisfied: typing-extensions>=3.7.4.3 in /opt/conda/lib/python3.7/site-packages (from huggingface-hub<1.0,>=0.14.1->transformers) (4.7.1)\n",
      "Requirement already satisfied: zipp>=0.5 in /opt/conda/lib/python3.7/site-packages (from importlib-metadata->transformers) (3.15.0)\n",
      "Requirement already satisfied: charset-normalizer<4,>=2 in /opt/conda/lib/python3.7/site-packages (from requests->transformers) (2.1.1)\n",
      "Requirement already satisfied: idna<4,>=2.5 in /opt/conda/lib/python3.7/site-packages (from requests->transformers) (3.4)\n",
      "Requirement already satisfied: urllib3<3,>=1.21.1 in /opt/conda/lib/python3.7/site-packages (from requests->transformers) (1.26.16)\n",
      "Requirement already satisfied: certifi>=2017.4.17 in /opt/conda/lib/python3.7/site-packages (from requests->transformers) (2023.7.22)\n",
      "Note: you may need to restart the kernel to use updated packages.\n"
     ]
    }
   ],
   "source": [
    "pip install --upgrade transformers"
   ]
  },
  {
   "cell_type": "code",
   "execution_count": 109,
   "id": "38f2f762-cfe9-472e-acfa-ecaad77107e3",
   "metadata": {
    "collapsed": true,
    "jupyter": {
     "outputs_hidden": true
    },
    "tags": []
   },
   "outputs": [
    {
     "name": "stdout",
     "output_type": "stream",
     "text": [
      "Collecting nltk\n",
      "  Downloading nltk-3.8.1-py3-none-any.whl (1.5 MB)\n",
      "\u001b[2K     \u001b[90m━━━━━━━━━━━━━━━━━━━━━━━━━━━━━━━━━━━━━━━━\u001b[0m \u001b[32m1.5/1.5 MB\u001b[0m \u001b[31m6.9 MB/s\u001b[0m eta \u001b[36m0:00:00\u001b[0m00:01\u001b[0m00:01\u001b[0m\n",
      "\u001b[?25hRequirement already satisfied: click in /opt/conda/lib/python3.7/site-packages (from nltk) (8.1.7)\n",
      "Requirement already satisfied: joblib in /opt/conda/lib/python3.7/site-packages (from nltk) (1.3.2)\n",
      "Requirement already satisfied: regex>=2021.8.3 in /opt/conda/lib/python3.7/site-packages (from nltk) (2023.8.8)\n",
      "Requirement already satisfied: tqdm in /opt/conda/lib/python3.7/site-packages (from nltk) (4.66.1)\n",
      "Requirement already satisfied: importlib-metadata in /opt/conda/lib/python3.7/site-packages (from click->nltk) (4.11.4)\n",
      "Requirement already satisfied: zipp>=0.5 in /opt/conda/lib/python3.7/site-packages (from importlib-metadata->click->nltk) (3.15.0)\n",
      "Requirement already satisfied: typing-extensions>=3.6.4 in /opt/conda/lib/python3.7/site-packages (from importlib-metadata->click->nltk) (4.7.1)\n",
      "Installing collected packages: nltk\n",
      "Successfully installed nltk-3.8.1\n",
      "Note: you may need to restart the kernel to use updated packages.\n"
     ]
    }
   ],
   "source": [
    "pip install nltk"
   ]
  },
  {
   "cell_type": "code",
   "execution_count": 50,
   "id": "b6cfa6e9-24c4-4621-90d6-05cda33b45ea",
   "metadata": {},
   "outputs": [
    {
     "name": "stdout",
     "output_type": "stream",
     "text": [
      "Requirement already satisfied: fuzzywuzzy in /opt/conda/lib/python3.7/site-packages (0.18.0)\n",
      "Note: you may need to restart the kernel to use updated packages.\n"
     ]
    }
   ],
   "source": [
    "pip install fuzzywuzzy\n"
   ]
  },
  {
   "cell_type": "code",
   "execution_count": 51,
   "id": "95aa40e4-898b-41c0-a0af-8e01d495e673",
   "metadata": {
    "tags": []
   },
   "outputs": [],
   "source": [
    "import pandas as pd\n",
    "from google.cloud import bigquery\n",
    "import pandas_gbq\n",
    "import matplotlib.pyplot as plt\n",
    "import seaborn as sns\n",
    "import re\n",
    "from transformers import DistilBertTokenizer, DistilBertModel\n",
    "import tensorflow as tf\n",
    "from tensorflow.keras import layers, models\n",
    "from nltk.sentiment.vader import SentimentIntensityAnalyzer\n",
    "import nltk\n",
    "from textblob import TextBlob\n",
    "import string\n",
    "import numpy as np\n"
   ]
  },
  {
   "cell_type": "code",
   "execution_count": 146,
   "id": "66467bd9-29e4-4476-8b76-e0af4852a2f5",
   "metadata": {
    "tags": []
   },
   "outputs": [
    {
     "name": "stdout",
     "output_type": "stream",
     "text": [
      "Downloading: 100%|\u001b[32m██████████\u001b[0m|\n"
     ]
    }
   ],
   "source": [
    "reviewgoogle = pandas_gbq.read_gbq(\"SELECT * FROM `prometheus-data-solutions.Datawarehouse_prometheus.google_nlp`\")"
   ]
  },
  {
   "cell_type": "code",
   "execution_count": 147,
   "id": "f95fccc5-fa18-4c5d-b077-912633d7f7cd",
   "metadata": {
    "tags": []
   },
   "outputs": [
    {
     "name": "stderr",
     "output_type": "stream",
     "text": [
      "/opt/conda/lib/python3.7/site-packages/ipykernel_launcher.py:6: FutureWarning: The default value of regex will change from True to False in a future version.\n",
      "  \n"
     ]
    }
   ],
   "source": [
    "reviewgoogle['comment'] = reviewgoogle['comment'].apply(lambda x: x.strip().replace('\\n', ' ').replace('\\t', ' ').replace('\\r', ' ').replace('\\'', ' ').replace('\\\"', ' ').replace('\\\\', ' '))                 \n",
    "# Define the regular expression pattern for special characters\n",
    "special_char_pattern = '[^A-Za-z0-9\\s.,!?]'\n",
    "\n",
    "# Replace special characters in the 'comment' column with an empty string\n",
    "reviewgoogle['comment'] = reviewgoogle['comment'].str.replace(special_char_pattern, '')\n",
    "reviewgoogle['comment'] = reviewgoogle['comment'].apply(lambda x: re.sub(r'\\s+', ' ', x))\n",
    "reviewgoogle['comment'] = reviewgoogle['comment'].apply(lambda x: x.strip())\n"
   ]
  },
  {
   "cell_type": "code",
   "execution_count": 148,
   "id": "509b9c6e-26e9-4af0-8c9d-b5b55250a597",
   "metadata": {
    "tags": []
   },
   "outputs": [
    {
     "data": {
      "text/html": [
       "<div>\n",
       "<style scoped>\n",
       "    .dataframe tbody tr th:only-of-type {\n",
       "        vertical-align: middle;\n",
       "    }\n",
       "\n",
       "    .dataframe tbody tr th {\n",
       "        vertical-align: top;\n",
       "    }\n",
       "\n",
       "    .dataframe thead th {\n",
       "        text-align: right;\n",
       "    }\n",
       "</style>\n",
       "<table border=\"1\" class=\"dataframe\">\n",
       "  <thead>\n",
       "    <tr style=\"text-align: right;\">\n",
       "      <th></th>\n",
       "      <th>id</th>\n",
       "      <th>name</th>\n",
       "      <th>date</th>\n",
       "      <th>comment</th>\n",
       "      <th>stars</th>\n",
       "      <th>source</th>\n",
       "    </tr>\n",
       "  </thead>\n",
       "  <tbody>\n",
       "    <tr>\n",
       "      <th>0</th>\n",
       "      <td>0x89c6c7b9714bc937:0xd4dc2c15498fa</td>\n",
       "      <td>Karma Pizza</td>\n",
       "      <td>2019-10-07 06:35:18+00:00</td>\n",
       "      <td>Horrible the customer service is terrible the ...</td>\n",
       "      <td>1</td>\n",
       "      <td>google</td>\n",
       "    </tr>\n",
       "    <tr>\n",
       "      <th>1</th>\n",
       "      <td>0x89c6c7b9714bc937:0xd4dc2c15498fa</td>\n",
       "      <td>Karma Pizza</td>\n",
       "      <td>2017-01-02 23:54:27+00:00</td>\n",
       "      <td>Need to update website with new menu and price...</td>\n",
       "      <td>1</td>\n",
       "      <td>google</td>\n",
       "    </tr>\n",
       "    <tr>\n",
       "      <th>2</th>\n",
       "      <td>0x89c6c7b9714bc937:0xd4dc2c15498fa</td>\n",
       "      <td>Karma Pizza</td>\n",
       "      <td>2019-10-24 00:33:27+00:00</td>\n",
       "      <td>Pizza was nasty</td>\n",
       "      <td>1</td>\n",
       "      <td>google</td>\n",
       "    </tr>\n",
       "    <tr>\n",
       "      <th>3</th>\n",
       "      <td>0x406ff04796c5b853:0x1dca12f1604140</td>\n",
       "      <td>2 In One Breakfast &amp; Lunch</td>\n",
       "      <td>2019-08-08 23:48:58+00:00</td>\n",
       "      <td>New owners. Horrible!! They have managed to me...</td>\n",
       "      <td>1</td>\n",
       "      <td>google</td>\n",
       "    </tr>\n",
       "    <tr>\n",
       "      <th>4</th>\n",
       "      <td>0x406ff04796c5b853:0x1dca12f1604140</td>\n",
       "      <td>2 In One Breakfast &amp; Lunch</td>\n",
       "      <td>2019-04-06 11:27:34+00:00</td>\n",
       "      <td>Nasty food but the cashier very nice</td>\n",
       "      <td>1</td>\n",
       "      <td>google</td>\n",
       "    </tr>\n",
       "  </tbody>\n",
       "</table>\n",
       "</div>"
      ],
      "text/plain": [
       "                                    id                        name  \\\n",
       "0   0x89c6c7b9714bc937:0xd4dc2c15498fa                 Karma Pizza   \n",
       "1   0x89c6c7b9714bc937:0xd4dc2c15498fa                 Karma Pizza   \n",
       "2   0x89c6c7b9714bc937:0xd4dc2c15498fa                 Karma Pizza   \n",
       "3  0x406ff04796c5b853:0x1dca12f1604140  2 In One Breakfast & Lunch   \n",
       "4  0x406ff04796c5b853:0x1dca12f1604140  2 In One Breakfast & Lunch   \n",
       "\n",
       "                       date  \\\n",
       "0 2019-10-07 06:35:18+00:00   \n",
       "1 2017-01-02 23:54:27+00:00   \n",
       "2 2019-10-24 00:33:27+00:00   \n",
       "3 2019-08-08 23:48:58+00:00   \n",
       "4 2019-04-06 11:27:34+00:00   \n",
       "\n",
       "                                             comment  stars  source  \n",
       "0  Horrible the customer service is terrible the ...      1  google  \n",
       "1  Need to update website with new menu and price...      1  google  \n",
       "2                                    Pizza was nasty      1  google  \n",
       "3  New owners. Horrible!! They have managed to me...      1  google  \n",
       "4               Nasty food but the cashier very nice      1  google  "
      ]
     },
     "execution_count": 148,
     "metadata": {},
     "output_type": "execute_result"
    }
   ],
   "source": [
    "reviewgoogle.head()"
   ]
  },
  {
   "cell_type": "code",
   "execution_count": null,
   "id": "b30802f2-8b94-4382-95d3-21b45aa57dbe",
   "metadata": {
    "tags": []
   },
   "outputs": [],
   "source": [
    "# Calculate the number of subsets (350 rows per subset)\n",
    "num_subsets = len(reviewgoogle) // 350 + (1 if len(reviewgoogle) % 350 > 0 else 0)\n",
    "\n",
    "# Create a list to store subsets\n",
    "subsets = []\n",
    "\n",
    "# Generate subsets\n",
    "for i in range(num_subsets):\n",
    "    start_idx = i * 350\n",
    "    end_idx = (i + 1) * 350\n",
    "    subset = reviewgoogle.iloc[start_idx:end_idx].copy()\n",
    "    subsets.append(subset)\n",
    "\n",
    "# Print the first few rows of each subset\n",
    "for i, subset in enumerate(subsets):\n",
    "    print(f\"Subset {i + 1}:\")\n",
    "    print(subset.head())\n",
    "    print(\"\\n\")"
   ]
  },
  {
   "cell_type": "code",
   "execution_count": null,
   "id": "0ca3aead-9c04-45d8-8d02-8a4f1c438c7a",
   "metadata": {
    "tags": []
   },
   "outputs": [
    {
     "name": "stderr",
     "output_type": "stream",
     "text": [
      "Some weights of the PyTorch model were not used when initializing the TF 2.0 model TFDistilBertForSequenceClassification: ['vocab_layer_norm.bias', 'vocab_transform.weight', 'vocab_layer_norm.weight', 'vocab_transform.bias', 'vocab_projector.bias']\n",
      "- This IS expected if you are initializing TFDistilBertForSequenceClassification from a PyTorch model trained on another task or with another architecture (e.g. initializing a TFBertForSequenceClassification model from a BertForPreTraining model).\n",
      "- This IS NOT expected if you are initializing TFDistilBertForSequenceClassification from a PyTorch model that you expect to be exactly identical (e.g. initializing a TFBertForSequenceClassification model from a BertForSequenceClassification model).\n",
      "Some weights or buffers of the TF 2.0 model TFDistilBertForSequenceClassification were not initialized from the PyTorch model and are newly initialized: ['pre_classifier.weight', 'pre_classifier.bias', 'classifier.weight', 'classifier.bias']\n",
      "You should probably TRAIN this model on a down-stream task to be able to use it for predictions and inference.\n"
     ]
    }
   ],
   "source": [
    "# Assuming 'reviewgoogle' is your original DataFrame\n",
    "# Assuming 'subsets' is the list of DataFrames created previously\n",
    "\n",
    "# Load the DistilBERT tokenizer and model\n",
    "tokenizer = DistilBertTokenizer.from_pretrained('distilbert-base-uncased')\n",
    "model = TFDistilBertForSequenceClassification.from_pretrained('distilbert-base-uncased')\n",
    "\n",
    "# Function to perform sentiment analysis on a DataFrame\n",
    "def perform_sentiment_analysis(subset):\n",
    "    # Tokenize and perform sentiment analysis\n",
    "    subset['sent_an'] = subset['comment'].apply(\n",
    "        lambda x: tf.argmax(tf.nn.softmax(model(tokenizer.encode_plus(x, truncation=True, padding='max_length', max_length=128, return_tensors='tf')).logits, axis=1), axis=1).numpy()[0]\n",
    "    )\n",
    "    return subset\n",
    "\n",
    "# Apply sentiment analysis to each subset\n",
    "subsets_with_sentiment = [perform_sentiment_analysis(subset) for subset in subsets]\n",
    "\n",
    "# Concatenate the subsets with sentiment analysis back into a single DataFrame\n",
    "reviewgoogle_with_sentiment = pd.concat(subsets_with_sentiment, ignore_index=True)\n",
    "\n"
   ]
  },
  {
   "cell_type": "code",
   "execution_count": 111,
   "id": "d31b6e07-8cf8-4619-8fac-d4a45c10898e",
   "metadata": {
    "collapsed": true,
    "jupyter": {
     "outputs_hidden": true
    },
    "tags": []
   },
   "outputs": [
    {
     "name": "stderr",
     "output_type": "stream",
     "text": [
      "[nltk_data] Downloading package vader_lexicon to\n",
      "[nltk_data]     /home/jupyter/nltk_data...\n",
      "[nltk_data]   Package vader_lexicon is already up-to-date!\n"
     ]
    }
   ],
   "source": [
    "from nltk.sentiment.vader import SentimentIntensityAnalyzer\n",
    "import nltk\n",
    "nltk.download('vader_lexicon')\n",
    "\n",
    "# Inicializamos\n",
    "sid = SentimentIntensityAnalyzer()\n",
    "\n",
    "# Ejecutamos el analisis en la columna review y creamos la columna sent_an con los resultados\n",
    "reviewgoogle['sentiment_score'] = reviewgoogle['comment'].apply(lambda x: sid.polarity_scores(x)['compound'])\n",
    "\n",
    "# Categorizamos los scores\n",
    "reviewgoogle['sent_an'] = reviewgoogle['sentiment_score'].apply(lambda x: 2 if x > 0.05 else (1 if -0.05 <= x <= 0.05 else 0))\n",
    "\n",
    "# Eliminamos la columna auxiliar\n",
    "#df_reviews.drop('sentiment_score', axis=1, inplace=True)"
   ]
  },
  {
   "cell_type": "code",
   "execution_count": 149,
   "id": "e2136be2-c504-4c6c-ba12-07fbefca626f",
   "metadata": {},
   "outputs": [],
   "source": [
    "from textblob import TextBlob\n",
    "\n",
    "# Se crea una función para realizar análisis de sentimiento y clasificación utilizando TextBlob\n",
    "def classify_sentiment(review):\n",
    "    analysis = TextBlob(str(review))\n",
    "    # El método sentiment.polarity devuelve un valor entre -1 y 1\n",
    "\n",
    "    # Se establecen umbrales para clasificar en 1, 2, 3, 4, o 5.\n",
    "    # Luego de algunas pruebas, se consideran apropiados los umbrales -0.2, 0, 0.2, y 0.4.\n",
    "    if analysis.sentiment.polarity <= -0.2:\n",
    "        return 1  # Muy Negativo\n",
    "    elif -0.2 < analysis.sentiment.polarity <= 0:\n",
    "        return 2  # Negativo\n",
    "    elif 0 < analysis.sentiment.polarity <= 0.2:\n",
    "        return 3  # Neutral\n",
    "    elif 0.2 < analysis.sentiment.polarity <= 0.4:\n",
    "        return 4  # Positivo\n",
    "    else:\n",
    "        return 5  # Muy Positivo\n",
    "\n",
    "# Se aplica la función de análisis de sentimiento a la columna 'comment'\n",
    "reviewgoogle['sentiment_analysis'] = reviewgoogle['comment'].apply(classify_sentiment)\n",
    "\n",
    "# Se agrega la columna 'label' basada en los valores de 'sentiment_analysis'\n",
    "reviewgoogle['label'] = reviewgoogle['sentiment_analysis'].apply(\n",
    "    lambda x: 'NEGATIVO' if x in [1, 2] else ('NEUTRAL' if x == 3 else 'POSITIVO')\n",
    ")\n",
    "\n",
    "# Se agrega la columna 'sentiment_polarity' con los valores de 'analysis.sentiment.polarity'\n",
    "reviewgoogle['sentiment_polarity'] = reviewgoogle['comment'].apply(\n",
    "    lambda x: TextBlob(str(x)).sentiment.polarity\n",
    ")\n"
   ]
  },
  {
   "cell_type": "code",
   "execution_count": 160,
   "id": "c67f745f-20a4-4efc-a49c-18923ee35f29",
   "metadata": {},
   "outputs": [
    {
     "name": "stderr",
     "output_type": "stream",
     "text": [
      "100%|██████████| 1/1 [00:00<00:00, 12157.40it/s]\n"
     ]
    }
   ],
   "source": [
    "# A BIG QUERY\n",
    "reviewgoogle.to_gbq(destination_table='Datawarehouse_prometheus.google_nlp_executed',project_id='prometheus-data-solutions', if_exists='replace')\n"
   ]
  },
  {
   "cell_type": "raw",
   "id": "b7ed81b8-4869-4c75-9e3d-53c54856072f",
   "metadata": {},
   "source": [
    "#AQUI VA LO DE REVIEW YELP"
   ]
  },
  {
   "cell_type": "code",
   "execution_count": 41,
   "id": "9565c948-75c7-4dd4-9260-3ff28a85661c",
   "metadata": {},
   "outputs": [
    {
     "name": "stdout",
     "output_type": "stream",
     "text": [
      "Downloading: 100%|\u001b[32m██████████\u001b[0m|\n"
     ]
    }
   ],
   "source": [
    "reviewyelp = pandas_gbq.read_gbq(\"SELECT * FROM `prometheus-data-solutions.Datawarehouse_prometheus.yelp_nlp`\")\n"
   ]
  },
  {
   "cell_type": "code",
   "execution_count": 42,
   "id": "2955eb9f-f053-4ddf-8dca-2dab49fbe75f",
   "metadata": {
    "tags": []
   },
   "outputs": [
    {
     "name": "stderr",
     "output_type": "stream",
     "text": [
      "/opt/conda/lib/python3.7/site-packages/ipykernel_launcher.py:6: FutureWarning: The default value of regex will change from True to False in a future version.\n",
      "  \n"
     ]
    }
   ],
   "source": [
    "reviewyelp['comment'] = reviewyelp['comment'].apply(lambda x: x.strip().replace('\\n', ' ').replace('\\t', ' ').replace('\\r', ' ').replace('\\'', ' ').replace('\\\"', ' ').replace('\\\\', ' '))                 \n",
    "# Define the regular expression pattern for special characters\n",
    "special_char_pattern = '[^A-Za-z0-9\\s.,!?]'\n",
    "\n",
    "# Replace special characters in the 'comment' column with an empty string\n",
    "reviewyelp['comment'] = reviewyelp['comment'].str.replace(special_char_pattern, '')\n",
    "reviewyelp['comment'] = reviewyelp['comment'].apply(lambda x: re.sub(r'\\s+', ' ', x))\n",
    "reviewyelp['comment'] = reviewyelp['comment'].apply(lambda x: x.strip())"
   ]
  },
  {
   "cell_type": "code",
   "execution_count": 43,
   "id": "2a26ba41-bef6-4bfb-b4a6-959f6736ed89",
   "metadata": {},
   "outputs": [],
   "source": [
    "def normalize_text(text):\n",
    "    # Convert to lowercase\n",
    "    text = text.lower()\n",
    "    # Remove punctuation\n",
    "    text = ''.join([char for char in text if char not in string.punctuation])\n",
    "    return text\n",
    "reviewyelp['comment_normalized'] = reviewyelp['comment'].apply(normalize_text)"
   ]
  },
  {
   "cell_type": "code",
   "execution_count": 48,
   "id": "cb7694c9-fe7d-442c-b440-071f8fc84679",
   "metadata": {},
   "outputs": [
    {
     "data": {
      "text/html": [
       "<div>\n",
       "<style scoped>\n",
       "    .dataframe tbody tr th:only-of-type {\n",
       "        vertical-align: middle;\n",
       "    }\n",
       "\n",
       "    .dataframe tbody tr th {\n",
       "        vertical-align: top;\n",
       "    }\n",
       "\n",
       "    .dataframe thead th {\n",
       "        text-align: right;\n",
       "    }\n",
       "</style>\n",
       "<table border=\"1\" class=\"dataframe\">\n",
       "  <thead>\n",
       "    <tr style=\"text-align: right;\">\n",
       "      <th></th>\n",
       "      <th>id</th>\n",
       "      <th>name</th>\n",
       "      <th>date</th>\n",
       "      <th>stars</th>\n",
       "      <th>source</th>\n",
       "      <th>comment</th>\n",
       "      <th>sentiment_analysis</th>\n",
       "      <th>label</th>\n",
       "      <th>sentiment_polarity</th>\n",
       "    </tr>\n",
       "  </thead>\n",
       "  <tbody>\n",
       "    <tr>\n",
       "      <th>0</th>\n",
       "      <td>--epgcb7xHGuJ-4PUeSLAw</td>\n",
       "      <td>Manhattan Bagel</td>\n",
       "      <td>2019-02-26 02:53:23+00:00</td>\n",
       "      <td>1</td>\n",
       "      <td>yelp</td>\n",
       "      <td>today at around 440 pm i decided i would commi...</td>\n",
       "      <td>2</td>\n",
       "      <td>NEGATIVO</td>\n",
       "      <td>-0.096250</td>\n",
       "    </tr>\n",
       "    <tr>\n",
       "      <th>1</th>\n",
       "      <td>--epgcb7xHGuJ-4PUeSLAw</td>\n",
       "      <td>Manhattan Bagel</td>\n",
       "      <td>2015-03-07 14:33:38+00:00</td>\n",
       "      <td>1</td>\n",
       "      <td>yelp</td>\n",
       "      <td>i was a regular costumer till today i ordered ...</td>\n",
       "      <td>2</td>\n",
       "      <td>NEGATIVO</td>\n",
       "      <td>-0.019444</td>\n",
       "    </tr>\n",
       "    <tr>\n",
       "      <th>2</th>\n",
       "      <td>--epgcb7xHGuJ-4PUeSLAw</td>\n",
       "      <td>Manhattan Bagel</td>\n",
       "      <td>2017-11-23 17:44:50+00:00</td>\n",
       "      <td>1</td>\n",
       "      <td>yelp</td>\n",
       "      <td>we came here today on nov 23 thanksgiving 2017...</td>\n",
       "      <td>3</td>\n",
       "      <td>NEUTRAL</td>\n",
       "      <td>0.035714</td>\n",
       "    </tr>\n",
       "    <tr>\n",
       "      <th>3</th>\n",
       "      <td>--epgcb7xHGuJ-4PUeSLAw</td>\n",
       "      <td>Manhattan Bagel</td>\n",
       "      <td>2019-11-05 19:51:31+00:00</td>\n",
       "      <td>1</td>\n",
       "      <td>yelp</td>\n",
       "      <td>what a grouch lady was very rude arrogant and ...</td>\n",
       "      <td>1</td>\n",
       "      <td>NEGATIVO</td>\n",
       "      <td>-0.545000</td>\n",
       "    </tr>\n",
       "    <tr>\n",
       "      <th>4</th>\n",
       "      <td>--epgcb7xHGuJ-4PUeSLAw</td>\n",
       "      <td>Manhattan Bagel</td>\n",
       "      <td>2013-11-18 19:15:29+00:00</td>\n",
       "      <td>1</td>\n",
       "      <td>yelp</td>\n",
       "      <td>worst bagels i ve ever had the place is dirty ...</td>\n",
       "      <td>1</td>\n",
       "      <td>NEGATIVO</td>\n",
       "      <td>-0.350000</td>\n",
       "    </tr>\n",
       "  </tbody>\n",
       "</table>\n",
       "</div>"
      ],
      "text/plain": [
       "                       id             name                      date  stars  \\\n",
       "0  --epgcb7xHGuJ-4PUeSLAw  Manhattan Bagel 2019-02-26 02:53:23+00:00      1   \n",
       "1  --epgcb7xHGuJ-4PUeSLAw  Manhattan Bagel 2015-03-07 14:33:38+00:00      1   \n",
       "2  --epgcb7xHGuJ-4PUeSLAw  Manhattan Bagel 2017-11-23 17:44:50+00:00      1   \n",
       "3  --epgcb7xHGuJ-4PUeSLAw  Manhattan Bagel 2019-11-05 19:51:31+00:00      1   \n",
       "4  --epgcb7xHGuJ-4PUeSLAw  Manhattan Bagel 2013-11-18 19:15:29+00:00      1   \n",
       "\n",
       "  source                                            comment  \\\n",
       "0   yelp  today at around 440 pm i decided i would commi...   \n",
       "1   yelp  i was a regular costumer till today i ordered ...   \n",
       "2   yelp  we came here today on nov 23 thanksgiving 2017...   \n",
       "3   yelp  what a grouch lady was very rude arrogant and ...   \n",
       "4   yelp  worst bagels i ve ever had the place is dirty ...   \n",
       "\n",
       "   sentiment_analysis     label  sentiment_polarity  \n",
       "0                   2  NEGATIVO           -0.096250  \n",
       "1                   2  NEGATIVO           -0.019444  \n",
       "2                   3   NEUTRAL            0.035714  \n",
       "3                   1  NEGATIVO           -0.545000  \n",
       "4                   1  NEGATIVO           -0.350000  "
      ]
     },
     "execution_count": 48,
     "metadata": {},
     "output_type": "execute_result"
    }
   ],
   "source": [
    "reviewyelp.head()"
   ]
  },
  {
   "cell_type": "code",
   "execution_count": 45,
   "id": "702afcff-df93-4b98-bc2a-6adadacf0713",
   "metadata": {
    "tags": []
   },
   "outputs": [
    {
     "ename": "KeyError",
     "evalue": "\"['comment_normalized'] not found in axis\"",
     "output_type": "error",
     "traceback": [
      "\u001b[0;31m---------------------------------------------------------------------------\u001b[0m",
      "\u001b[0;31mKeyError\u001b[0m                                  Traceback (most recent call last)",
      "\u001b[0;32m/var/tmp/ipykernel_16259/2069865318.py\u001b[0m in \u001b[0;36m<module>\u001b[0;34m\u001b[0m\n\u001b[1;32m      2\u001b[0m \u001b[0;34m\u001b[0m\u001b[0m\n\u001b[1;32m      3\u001b[0m \u001b[0mreviewyelp\u001b[0m \u001b[0;34m=\u001b[0m \u001b[0mreviewyelp\u001b[0m\u001b[0;34m.\u001b[0m\u001b[0mrename\u001b[0m\u001b[0;34m(\u001b[0m\u001b[0mcolumns\u001b[0m\u001b[0;34m=\u001b[0m\u001b[0;34m{\u001b[0m\u001b[0;34m'comment_normalized'\u001b[0m\u001b[0;34m:\u001b[0m \u001b[0;34m'comment'\u001b[0m\u001b[0;34m}\u001b[0m\u001b[0;34m)\u001b[0m\u001b[0;34m\u001b[0m\u001b[0;34m\u001b[0m\u001b[0m\n\u001b[0;32m----> 4\u001b[0;31m \u001b[0mreviewyelp\u001b[0m \u001b[0;34m=\u001b[0m \u001b[0mreviewyelp\u001b[0m\u001b[0;34m.\u001b[0m\u001b[0mdrop\u001b[0m\u001b[0;34m(\u001b[0m\u001b[0mcolumns\u001b[0m\u001b[0;34m=\u001b[0m\u001b[0;34m[\u001b[0m\u001b[0;34m'comment_normalized'\u001b[0m\u001b[0;34m]\u001b[0m\u001b[0;34m)\u001b[0m\u001b[0;34m\u001b[0m\u001b[0;34m\u001b[0m\u001b[0m\n\u001b[0m\u001b[1;32m      5\u001b[0m \u001b[0;31m# Drop the 'comment' column\u001b[0m\u001b[0;34m\u001b[0m\u001b[0;34m\u001b[0m\u001b[0;34m\u001b[0m\u001b[0m\n",
      "\u001b[0;32m/opt/conda/lib/python3.7/site-packages/pandas/util/_decorators.py\u001b[0m in \u001b[0;36mwrapper\u001b[0;34m(*args, **kwargs)\u001b[0m\n\u001b[1;32m    309\u001b[0m                     \u001b[0mstacklevel\u001b[0m\u001b[0;34m=\u001b[0m\u001b[0mstacklevel\u001b[0m\u001b[0;34m,\u001b[0m\u001b[0;34m\u001b[0m\u001b[0;34m\u001b[0m\u001b[0m\n\u001b[1;32m    310\u001b[0m                 )\n\u001b[0;32m--> 311\u001b[0;31m             \u001b[0;32mreturn\u001b[0m \u001b[0mfunc\u001b[0m\u001b[0;34m(\u001b[0m\u001b[0;34m*\u001b[0m\u001b[0margs\u001b[0m\u001b[0;34m,\u001b[0m \u001b[0;34m**\u001b[0m\u001b[0mkwargs\u001b[0m\u001b[0;34m)\u001b[0m\u001b[0;34m\u001b[0m\u001b[0;34m\u001b[0m\u001b[0m\n\u001b[0m\u001b[1;32m    312\u001b[0m \u001b[0;34m\u001b[0m\u001b[0m\n\u001b[1;32m    313\u001b[0m         \u001b[0;32mreturn\u001b[0m \u001b[0mwrapper\u001b[0m\u001b[0;34m\u001b[0m\u001b[0;34m\u001b[0m\u001b[0m\n",
      "\u001b[0;32m/opt/conda/lib/python3.7/site-packages/pandas/core/frame.py\u001b[0m in \u001b[0;36mdrop\u001b[0;34m(self, labels, axis, index, columns, level, inplace, errors)\u001b[0m\n\u001b[1;32m   4911\u001b[0m             \u001b[0mlevel\u001b[0m\u001b[0;34m=\u001b[0m\u001b[0mlevel\u001b[0m\u001b[0;34m,\u001b[0m\u001b[0;34m\u001b[0m\u001b[0;34m\u001b[0m\u001b[0m\n\u001b[1;32m   4912\u001b[0m             \u001b[0minplace\u001b[0m\u001b[0;34m=\u001b[0m\u001b[0minplace\u001b[0m\u001b[0;34m,\u001b[0m\u001b[0;34m\u001b[0m\u001b[0;34m\u001b[0m\u001b[0m\n\u001b[0;32m-> 4913\u001b[0;31m             \u001b[0merrors\u001b[0m\u001b[0;34m=\u001b[0m\u001b[0merrors\u001b[0m\u001b[0;34m,\u001b[0m\u001b[0;34m\u001b[0m\u001b[0;34m\u001b[0m\u001b[0m\n\u001b[0m\u001b[1;32m   4914\u001b[0m         )\n\u001b[1;32m   4915\u001b[0m \u001b[0;34m\u001b[0m\u001b[0m\n",
      "\u001b[0;32m/opt/conda/lib/python3.7/site-packages/pandas/core/generic.py\u001b[0m in \u001b[0;36mdrop\u001b[0;34m(self, labels, axis, index, columns, level, inplace, errors)\u001b[0m\n\u001b[1;32m   4148\u001b[0m         \u001b[0;32mfor\u001b[0m \u001b[0maxis\u001b[0m\u001b[0;34m,\u001b[0m \u001b[0mlabels\u001b[0m \u001b[0;32min\u001b[0m \u001b[0maxes\u001b[0m\u001b[0;34m.\u001b[0m\u001b[0mitems\u001b[0m\u001b[0;34m(\u001b[0m\u001b[0;34m)\u001b[0m\u001b[0;34m:\u001b[0m\u001b[0;34m\u001b[0m\u001b[0;34m\u001b[0m\u001b[0m\n\u001b[1;32m   4149\u001b[0m             \u001b[0;32mif\u001b[0m \u001b[0mlabels\u001b[0m \u001b[0;32mis\u001b[0m \u001b[0;32mnot\u001b[0m \u001b[0;32mNone\u001b[0m\u001b[0;34m:\u001b[0m\u001b[0;34m\u001b[0m\u001b[0;34m\u001b[0m\u001b[0m\n\u001b[0;32m-> 4150\u001b[0;31m                 \u001b[0mobj\u001b[0m \u001b[0;34m=\u001b[0m \u001b[0mobj\u001b[0m\u001b[0;34m.\u001b[0m\u001b[0m_drop_axis\u001b[0m\u001b[0;34m(\u001b[0m\u001b[0mlabels\u001b[0m\u001b[0;34m,\u001b[0m \u001b[0maxis\u001b[0m\u001b[0;34m,\u001b[0m \u001b[0mlevel\u001b[0m\u001b[0;34m=\u001b[0m\u001b[0mlevel\u001b[0m\u001b[0;34m,\u001b[0m \u001b[0merrors\u001b[0m\u001b[0;34m=\u001b[0m\u001b[0merrors\u001b[0m\u001b[0;34m)\u001b[0m\u001b[0;34m\u001b[0m\u001b[0;34m\u001b[0m\u001b[0m\n\u001b[0m\u001b[1;32m   4151\u001b[0m \u001b[0;34m\u001b[0m\u001b[0m\n\u001b[1;32m   4152\u001b[0m         \u001b[0;32mif\u001b[0m \u001b[0minplace\u001b[0m\u001b[0;34m:\u001b[0m\u001b[0;34m\u001b[0m\u001b[0;34m\u001b[0m\u001b[0m\n",
      "\u001b[0;32m/opt/conda/lib/python3.7/site-packages/pandas/core/generic.py\u001b[0m in \u001b[0;36m_drop_axis\u001b[0;34m(self, labels, axis, level, errors)\u001b[0m\n\u001b[1;32m   4183\u001b[0m                 \u001b[0mnew_axis\u001b[0m \u001b[0;34m=\u001b[0m \u001b[0maxis\u001b[0m\u001b[0;34m.\u001b[0m\u001b[0mdrop\u001b[0m\u001b[0;34m(\u001b[0m\u001b[0mlabels\u001b[0m\u001b[0;34m,\u001b[0m \u001b[0mlevel\u001b[0m\u001b[0;34m=\u001b[0m\u001b[0mlevel\u001b[0m\u001b[0;34m,\u001b[0m \u001b[0merrors\u001b[0m\u001b[0;34m=\u001b[0m\u001b[0merrors\u001b[0m\u001b[0;34m)\u001b[0m\u001b[0;34m\u001b[0m\u001b[0;34m\u001b[0m\u001b[0m\n\u001b[1;32m   4184\u001b[0m             \u001b[0;32melse\u001b[0m\u001b[0;34m:\u001b[0m\u001b[0;34m\u001b[0m\u001b[0;34m\u001b[0m\u001b[0m\n\u001b[0;32m-> 4185\u001b[0;31m                 \u001b[0mnew_axis\u001b[0m \u001b[0;34m=\u001b[0m \u001b[0maxis\u001b[0m\u001b[0;34m.\u001b[0m\u001b[0mdrop\u001b[0m\u001b[0;34m(\u001b[0m\u001b[0mlabels\u001b[0m\u001b[0;34m,\u001b[0m \u001b[0merrors\u001b[0m\u001b[0;34m=\u001b[0m\u001b[0merrors\u001b[0m\u001b[0;34m)\u001b[0m\u001b[0;34m\u001b[0m\u001b[0;34m\u001b[0m\u001b[0m\n\u001b[0m\u001b[1;32m   4186\u001b[0m             \u001b[0mresult\u001b[0m \u001b[0;34m=\u001b[0m \u001b[0mself\u001b[0m\u001b[0;34m.\u001b[0m\u001b[0mreindex\u001b[0m\u001b[0;34m(\u001b[0m\u001b[0;34m**\u001b[0m\u001b[0;34m{\u001b[0m\u001b[0maxis_name\u001b[0m\u001b[0;34m:\u001b[0m \u001b[0mnew_axis\u001b[0m\u001b[0;34m}\u001b[0m\u001b[0;34m)\u001b[0m\u001b[0;34m\u001b[0m\u001b[0;34m\u001b[0m\u001b[0m\n\u001b[1;32m   4187\u001b[0m \u001b[0;34m\u001b[0m\u001b[0m\n",
      "\u001b[0;32m/opt/conda/lib/python3.7/site-packages/pandas/core/indexes/base.py\u001b[0m in \u001b[0;36mdrop\u001b[0;34m(self, labels, errors)\u001b[0m\n\u001b[1;32m   6015\u001b[0m         \u001b[0;32mif\u001b[0m \u001b[0mmask\u001b[0m\u001b[0;34m.\u001b[0m\u001b[0many\u001b[0m\u001b[0;34m(\u001b[0m\u001b[0;34m)\u001b[0m\u001b[0;34m:\u001b[0m\u001b[0;34m\u001b[0m\u001b[0;34m\u001b[0m\u001b[0m\n\u001b[1;32m   6016\u001b[0m             \u001b[0;32mif\u001b[0m \u001b[0merrors\u001b[0m \u001b[0;34m!=\u001b[0m \u001b[0;34m\"ignore\"\u001b[0m\u001b[0;34m:\u001b[0m\u001b[0;34m\u001b[0m\u001b[0;34m\u001b[0m\u001b[0m\n\u001b[0;32m-> 6017\u001b[0;31m                 \u001b[0;32mraise\u001b[0m \u001b[0mKeyError\u001b[0m\u001b[0;34m(\u001b[0m\u001b[0;34mf\"{labels[mask]} not found in axis\"\u001b[0m\u001b[0;34m)\u001b[0m\u001b[0;34m\u001b[0m\u001b[0;34m\u001b[0m\u001b[0m\n\u001b[0m\u001b[1;32m   6018\u001b[0m             \u001b[0mindexer\u001b[0m \u001b[0;34m=\u001b[0m \u001b[0mindexer\u001b[0m\u001b[0;34m[\u001b[0m\u001b[0;34m~\u001b[0m\u001b[0mmask\u001b[0m\u001b[0;34m]\u001b[0m\u001b[0;34m\u001b[0m\u001b[0;34m\u001b[0m\u001b[0m\n\u001b[1;32m   6019\u001b[0m         \u001b[0;32mreturn\u001b[0m \u001b[0mself\u001b[0m\u001b[0;34m.\u001b[0m\u001b[0mdelete\u001b[0m\u001b[0;34m(\u001b[0m\u001b[0mindexer\u001b[0m\u001b[0;34m)\u001b[0m\u001b[0;34m\u001b[0m\u001b[0;34m\u001b[0m\u001b[0m\n",
      "\u001b[0;31mKeyError\u001b[0m: \"['comment_normalized'] not found in axis\""
     ]
    }
   ],
   "source": [
    "reviewyelp = reviewyelp.drop(columns=['comment'])\n",
    "\n",
    "reviewyelp = reviewyelp.rename(columns={'comment_normalized': 'comment'})\n",
    "reviewyelp = reviewyelp.drop(columns=['comment_normalized'])\n",
    "# Drop the 'comment' column\n"
   ]
  },
  {
   "cell_type": "code",
   "execution_count": 47,
   "id": "057e415a-1735-4f9a-967b-640f4c5f9076",
   "metadata": {},
   "outputs": [],
   "source": [
    "# Se crea una función para realizar análisis de sentimiento y clasificación utilizando TextBlob\n",
    "def classify_sentiment(review):\n",
    "    analysis = TextBlob(str(review))\n",
    "    # El método sentiment.polarity devuelve un valor entre -1 y 1\n",
    "\n",
    "    # Se establecen umbrales para clasificar en 1, 2, 3, 4, o 5.\n",
    "    # Luego de algunas pruebas, se consideran apropiados los umbrales -0.2, 0, 0.2, y 0.4.\n",
    "    if analysis.sentiment.polarity <= -0.2:\n",
    "        return 1  # Muy Negativo\n",
    "    elif -0.2 < analysis.sentiment.polarity <= 0:\n",
    "        return 2  # Negativo\n",
    "    elif 0 < analysis.sentiment.polarity <= 0.2:\n",
    "        return 3  # Neutral\n",
    "    elif 0.2 < analysis.sentiment.polarity <= 0.4:\n",
    "        return 4  # Positivo\n",
    "    else:\n",
    "        return 5  # Muy Positivo\n",
    "\n",
    "# Se aplica la función de análisis de sentimiento a la columna 'comment'\n",
    "reviewyelp['sentiment_analysis'] = reviewyelp['comment'].apply(classify_sentiment)\n",
    "\n",
    "# Se agrega la columna 'label' basada en los valores de 'sentiment_analysis'\n",
    "reviewyelp['label'] = reviewyelp['sentiment_analysis'].apply(\n",
    "    lambda x: 'NEGATIVO' if x in [1, 2] else ('NEUTRAL' if x == 3 else 'POSITIVO')\n",
    ")\n",
    "\n",
    "# Se agrega la columna 'sentiment_polarity' con los valores de 'analysis.sentiment.polarity'\n",
    "reviewyelp['sentiment_polarity'] = reviewyelp['comment'].apply(\n",
    "    lambda x: TextBlob(str(x)).sentiment.polarity\n",
    ")"
   ]
  },
  {
   "cell_type": "code",
   "execution_count": 49,
   "id": "ed2cc579-31c8-4f31-a1aa-90971c7ce694",
   "metadata": {
    "tags": []
   },
   "outputs": [
    {
     "name": "stderr",
     "output_type": "stream",
     "text": [
      "100%|██████████| 1/1 [00:00<00:00, 13315.25it/s]\n"
     ]
    }
   ],
   "source": [
    "# A BIG QUERY\n",
    "\n",
    "reviewyelp.to_gbq(destination_table='Datawarehouse_prometheus.yelp_nlp_executed',project_id='prometheus-data-solutions', if_exists='replace')"
   ]
  },
  {
   "cell_type": "code",
   "execution_count": 52,
   "id": "6345ef60-3064-419f-8e9a-d627513c4098",
   "metadata": {},
   "outputs": [
    {
     "name": "stdout",
     "output_type": "stream",
     "text": [
      "Downloading: 100%|\u001b[32m██████████\u001b[0m|\n"
     ]
    }
   ],
   "source": [
    "reviewyelpnlp = pandas_gbq.read_gbq(\"SELECT * FROM `prometheus-data-solutions.Datawarehouse_prometheus.yelp_nlp_executed`\")"
   ]
  },
  {
   "cell_type": "code",
   "execution_count": 18,
   "id": "d7dc0b45-6be0-4ef2-8459-a69b31d5f74a",
   "metadata": {},
   "outputs": [
    {
     "data": {
      "text/html": [
       "<div>\n",
       "<style scoped>\n",
       "    .dataframe tbody tr th:only-of-type {\n",
       "        vertical-align: middle;\n",
       "    }\n",
       "\n",
       "    .dataframe tbody tr th {\n",
       "        vertical-align: top;\n",
       "    }\n",
       "\n",
       "    .dataframe thead th {\n",
       "        text-align: right;\n",
       "    }\n",
       "</style>\n",
       "<table border=\"1\" class=\"dataframe\">\n",
       "  <thead>\n",
       "    <tr style=\"text-align: right;\">\n",
       "      <th></th>\n",
       "      <th>id</th>\n",
       "      <th>name</th>\n",
       "      <th>date</th>\n",
       "      <th>stars</th>\n",
       "      <th>source</th>\n",
       "      <th>comment</th>\n",
       "      <th>sentiment_analysis</th>\n",
       "      <th>label</th>\n",
       "      <th>sentiment_polarity</th>\n",
       "    </tr>\n",
       "  </thead>\n",
       "  <tbody>\n",
       "    <tr>\n",
       "      <th>0</th>\n",
       "      <td>-HjH9XFJ8lS5Mq-uTsR4OQ</td>\n",
       "      <td>The Garden Table</td>\n",
       "      <td>2015-04-16 13:27:30+00:00</td>\n",
       "      <td>2</td>\n",
       "      <td>yelp</td>\n",
       "      <td>too expensive for what you get my field greens...</td>\n",
       "      <td>1</td>\n",
       "      <td>NEGATIVO</td>\n",
       "      <td>-0.216667</td>\n",
       "    </tr>\n",
       "    <tr>\n",
       "      <th>1</th>\n",
       "      <td>-V60XTbkUWtimOw5qTzozw</td>\n",
       "      <td>Domino's Pizza</td>\n",
       "      <td>2019-12-15 20:35:47+00:00</td>\n",
       "      <td>1</td>\n",
       "      <td>yelp</td>\n",
       "      <td>worst experience i ve ever had waited about 7 ...</td>\n",
       "      <td>1</td>\n",
       "      <td>NEGATIVO</td>\n",
       "      <td>-0.265000</td>\n",
       "    </tr>\n",
       "    <tr>\n",
       "      <th>2</th>\n",
       "      <td>-tDmeO1Q5aqThVY3AFJJ7A</td>\n",
       "      <td>Oceano</td>\n",
       "      <td>2013-01-03 18:08:47+00:00</td>\n",
       "      <td>1</td>\n",
       "      <td>yelp</td>\n",
       "      <td>i had the worst experience possible at oceano ...</td>\n",
       "      <td>1</td>\n",
       "      <td>NEGATIVO</td>\n",
       "      <td>-0.222857</td>\n",
       "    </tr>\n",
       "    <tr>\n",
       "      <th>3</th>\n",
       "      <td>-wpjPXundFyZCm9khW2wLg</td>\n",
       "      <td>Ruby Tuesday</td>\n",
       "      <td>2013-12-15 22:51:56+00:00</td>\n",
       "      <td>1</td>\n",
       "      <td>yelp</td>\n",
       "      <td>place is not for me i had the worst experience...</td>\n",
       "      <td>1</td>\n",
       "      <td>NEGATIVO</td>\n",
       "      <td>-1.000000</td>\n",
       "    </tr>\n",
       "    <tr>\n",
       "      <th>4</th>\n",
       "      <td>0CssPu4DgIImkouHXKTY6Q</td>\n",
       "      <td>Tony's Pizza</td>\n",
       "      <td>2016-06-19 21:50:58+00:00</td>\n",
       "      <td>1</td>\n",
       "      <td>yelp</td>\n",
       "      <td>bad pizza bad service ashley is a train wreck ...</td>\n",
       "      <td>1</td>\n",
       "      <td>NEGATIVO</td>\n",
       "      <td>-0.428571</td>\n",
       "    </tr>\n",
       "    <tr>\n",
       "      <th>...</th>\n",
       "      <td>...</td>\n",
       "      <td>...</td>\n",
       "      <td>...</td>\n",
       "      <td>...</td>\n",
       "      <td>...</td>\n",
       "      <td>...</td>\n",
       "      <td>...</td>\n",
       "      <td>...</td>\n",
       "      <td>...</td>\n",
       "    </tr>\n",
       "    <tr>\n",
       "      <th>1983484</th>\n",
       "      <td>zpuFEeAhrNzXPkOlBf5Kog</td>\n",
       "      <td>Outback Steakhouse</td>\n",
       "      <td>2013-09-06 02:26:57+00:00</td>\n",
       "      <td>5</td>\n",
       "      <td>yelp</td>\n",
       "      <td>great food great selection of beer really comf...</td>\n",
       "      <td>5</td>\n",
       "      <td>POSITIVO</td>\n",
       "      <td>0.583333</td>\n",
       "    </tr>\n",
       "    <tr>\n",
       "      <th>1983485</th>\n",
       "      <td>zvXK340RFrQqaPU22U7zcA</td>\n",
       "      <td>Erthe Coffee and Pizzeria</td>\n",
       "      <td>2018-07-18 17:24:55+00:00</td>\n",
       "      <td>4</td>\n",
       "      <td>yelp</td>\n",
       "      <td>i was in the area so i wanted to give them a t...</td>\n",
       "      <td>5</td>\n",
       "      <td>POSITIVO</td>\n",
       "      <td>0.423958</td>\n",
       "    </tr>\n",
       "    <tr>\n",
       "      <th>1983486</th>\n",
       "      <td>zxPcNvM4aPZu6gUmTFkazQ</td>\n",
       "      <td>Wok Chi</td>\n",
       "      <td>2016-08-15 00:49:46+00:00</td>\n",
       "      <td>5</td>\n",
       "      <td>yelp</td>\n",
       "      <td>my girl and i absolutely love this place the f...</td>\n",
       "      <td>5</td>\n",
       "      <td>POSITIVO</td>\n",
       "      <td>0.404000</td>\n",
       "    </tr>\n",
       "    <tr>\n",
       "      <th>1983487</th>\n",
       "      <td>zxuVnNVAUm16Sro0dS_lmg</td>\n",
       "      <td>Roundabout Grill</td>\n",
       "      <td>2017-08-05 05:40:24+00:00</td>\n",
       "      <td>5</td>\n",
       "      <td>yelp</td>\n",
       "      <td>my boyfriend and i absolutely loved our experi...</td>\n",
       "      <td>5</td>\n",
       "      <td>POSITIVO</td>\n",
       "      <td>0.459524</td>\n",
       "    </tr>\n",
       "    <tr>\n",
       "      <th>1983488</th>\n",
       "      <td>zxuVnNVAUm16Sro0dS_lmg</td>\n",
       "      <td>Roundabout Grill</td>\n",
       "      <td>2018-08-18 00:41:37+00:00</td>\n",
       "      <td>4</td>\n",
       "      <td>yelp</td>\n",
       "      <td>had an excellent experience great food and ser...</td>\n",
       "      <td>5</td>\n",
       "      <td>POSITIVO</td>\n",
       "      <td>0.476250</td>\n",
       "    </tr>\n",
       "  </tbody>\n",
       "</table>\n",
       "<p>1983489 rows × 9 columns</p>\n",
       "</div>"
      ],
      "text/plain": [
       "                             id                       name  \\\n",
       "0        -HjH9XFJ8lS5Mq-uTsR4OQ           The Garden Table   \n",
       "1        -V60XTbkUWtimOw5qTzozw             Domino's Pizza   \n",
       "2        -tDmeO1Q5aqThVY3AFJJ7A                     Oceano   \n",
       "3        -wpjPXundFyZCm9khW2wLg               Ruby Tuesday   \n",
       "4        0CssPu4DgIImkouHXKTY6Q               Tony's Pizza   \n",
       "...                         ...                        ...   \n",
       "1983484  zpuFEeAhrNzXPkOlBf5Kog         Outback Steakhouse   \n",
       "1983485  zvXK340RFrQqaPU22U7zcA  Erthe Coffee and Pizzeria   \n",
       "1983486  zxPcNvM4aPZu6gUmTFkazQ                    Wok Chi   \n",
       "1983487  zxuVnNVAUm16Sro0dS_lmg           Roundabout Grill   \n",
       "1983488  zxuVnNVAUm16Sro0dS_lmg           Roundabout Grill   \n",
       "\n",
       "                             date  stars source  \\\n",
       "0       2015-04-16 13:27:30+00:00      2   yelp   \n",
       "1       2019-12-15 20:35:47+00:00      1   yelp   \n",
       "2       2013-01-03 18:08:47+00:00      1   yelp   \n",
       "3       2013-12-15 22:51:56+00:00      1   yelp   \n",
       "4       2016-06-19 21:50:58+00:00      1   yelp   \n",
       "...                           ...    ...    ...   \n",
       "1983484 2013-09-06 02:26:57+00:00      5   yelp   \n",
       "1983485 2018-07-18 17:24:55+00:00      4   yelp   \n",
       "1983486 2016-08-15 00:49:46+00:00      5   yelp   \n",
       "1983487 2017-08-05 05:40:24+00:00      5   yelp   \n",
       "1983488 2018-08-18 00:41:37+00:00      4   yelp   \n",
       "\n",
       "                                                   comment  \\\n",
       "0        too expensive for what you get my field greens...   \n",
       "1        worst experience i ve ever had waited about 7 ...   \n",
       "2        i had the worst experience possible at oceano ...   \n",
       "3        place is not for me i had the worst experience...   \n",
       "4        bad pizza bad service ashley is a train wreck ...   \n",
       "...                                                    ...   \n",
       "1983484  great food great selection of beer really comf...   \n",
       "1983485  i was in the area so i wanted to give them a t...   \n",
       "1983486  my girl and i absolutely love this place the f...   \n",
       "1983487  my boyfriend and i absolutely loved our experi...   \n",
       "1983488  had an excellent experience great food and ser...   \n",
       "\n",
       "         sentiment_analysis     label  sentiment_polarity  \n",
       "0                         1  NEGATIVO           -0.216667  \n",
       "1                         1  NEGATIVO           -0.265000  \n",
       "2                         1  NEGATIVO           -0.222857  \n",
       "3                         1  NEGATIVO           -1.000000  \n",
       "4                         1  NEGATIVO           -0.428571  \n",
       "...                     ...       ...                 ...  \n",
       "1983484                   5  POSITIVO            0.583333  \n",
       "1983485                   5  POSITIVO            0.423958  \n",
       "1983486                   5  POSITIVO            0.404000  \n",
       "1983487                   5  POSITIVO            0.459524  \n",
       "1983488                   5  POSITIVO            0.476250  \n",
       "\n",
       "[1983489 rows x 9 columns]"
      ]
     },
     "execution_count": 18,
     "metadata": {},
     "output_type": "execute_result"
    }
   ],
   "source": [
    "reviewyelpnlp"
   ]
  },
  {
   "cell_type": "code",
   "execution_count": 20,
   "id": "b3746c6a-5ab2-4bdb-b0ca-d80cfd7f8da3",
   "metadata": {},
   "outputs": [
    {
     "name": "stdout",
     "output_type": "stream",
     "text": [
      "stars                 Int64\n",
      "sentiment_analysis    Int64\n",
      "dtype: object\n"
     ]
    }
   ],
   "source": [
    "print(reviewyelpnlp[['stars', 'sentiment_analysis']].dtypes)"
   ]
  },
  {
   "cell_type": "code",
   "execution_count": 21,
   "id": "84953959-50d7-4f69-a2cc-9d9910ef5aa9",
   "metadata": {},
   "outputs": [
    {
     "name": "stdout",
     "output_type": "stream",
     "text": [
      "Missing values in 'stars' and 'sentiment_analysis' columns:\n",
      "stars                 0\n",
      "sentiment_analysis    0\n",
      "dtype: int64\n",
      "Unique values in 'stars' column: <IntegerArray>\n",
      "[2, 1, 4, 3, 5]\n",
      "Length: 5, dtype: Int64\n",
      "Unique values in 'sentiment_analysis' column: <IntegerArray>\n",
      "[1, 2, 3, 4, 5]\n",
      "Length: 5, dtype: Int64\n"
     ]
    }
   ],
   "source": [
    "# Check for missing values\n",
    "print(\"Missing values in 'stars' and 'sentiment_analysis' columns:\")\n",
    "print(reviewyelpnlp[['stars', 'sentiment_analysis']].isnull().sum())\n",
    "\n",
    "# Check for unexpected data\n",
    "print(\"Unique values in 'stars' column:\", reviewyelpnlp['stars'].unique())\n",
    "print(\"Unique values in 'sentiment_analysis' column:\", reviewyelpnlp['sentiment_analysis'].unique())\n"
   ]
  },
  {
   "cell_type": "code",
   "execution_count": 53,
   "id": "ad185c68-e093-431d-8904-216d6a9aa650",
   "metadata": {},
   "outputs": [
    {
     "name": "stdout",
     "output_type": "stream",
     "text": [
      "Pearson Correlation Coefficient: 0.6418559534520406\n"
     ]
    }
   ],
   "source": [
    "from scipy.stats import pearsonr\n",
    "\n",
    "\n",
    "# Calculate the Pearson correlation coefficient using scipy.stats\n",
    "correlation, _ = pearsonr(reviewyelpnlp['stars'], reviewyelpnlp['sentiment_analysis'])\n",
    "\n",
    "# Display the correlation coefficient\n",
    "print(f\"Pearson Correlation Coefficient: {correlation}\")\n"
   ]
  },
  {
   "cell_type": "code",
   "execution_count": 66,
   "id": "e390bf9a-3cf7-44d2-8442-770617a14720",
   "metadata": {},
   "outputs": [
    {
     "data": {
      "image/png": "[encoded data removed]",
      "text/plain": [
       "<Figure size 1000x600 with 1 Axes>"
      ]
     },
     "metadata": {},
     "output_type": "display_data"
    }
   ],
   "source": [
    "import matplotlib.pyplot as plt\n",
    "\n",
    "# Assuming reviewyelpnlp is your DataFrame containing 'stars' and 'sentiment_analysis' columns\n",
    "\n",
    "# Get value counts for both columns\n",
    "stars_counts = reviewyelpnlp['stars'].value_counts().sort_index()\n",
    "sentiment_counts = reviewyelpnlp['sentiment_analysis'].value_counts().sort_index()\n",
    "\n",
    "# Create a line plot\n",
    "plt.figure(figsize=(10, 6))\n",
    "\n",
    "# Plot 'stars' column\n",
    "plt.plot(stars_counts.index, stars_counts.values, label='Stars', marker='o')\n",
    "\n",
    "# Plot 'sentiment_analysis' column\n",
    "plt.plot(sentiment_counts.index, sentiment_counts.values, label='Sentiment Analysis', marker='o')\n",
    "\n",
    "# Set labels and title\n",
    "plt.xlabel('Values (1 to 5)')\n",
    "plt.ylabel('Frequency')\n",
    "plt.title('Comparación datos de prueba y predicciones')\n",
    "plt.legend()\n",
    "\n",
    "# Show the plot\n",
    "plt.show()\n",
    "\n"
   ]
  },
  {
   "cell_type": "code",
   "execution_count": 69,
   "id": "801913d4-2b69-4066-b3b8-c635d2249b1c",
   "metadata": {},
   "outputs": [
    {
     "data": {
      "image/png": "[encoded data removed]",
      "text/plain": [
       "<Figure size 800x600 with 1 Axes>"
      ]
     },
     "metadata": {},
     "output_type": "display_data"
    }
   ],
   "source": [
    "#Se muestra un grafico de barras sobre sentiment_analysis\n",
    "\n",
    "sentiment_count = reviewyelpnlp['sentiment_analysis'].value_counts()\n",
    "\n",
    "plt.figure(figsize=(8, 6))\n",
    "plt.bar(sentiment_count.index, sentiment_count.values, color=['green', 'yellow', 'red'])\n",
    "\n",
    "plt.title('Distribución de Sentimientos')\n",
    "plt.xlabel('Sentimiento')\n",
    "plt.ylabel('Frecuencia')\n",
    "\n",
    "plt.show()"
   ]
  },
  {
   "cell_type": "code",
   "execution_count": null,
   "id": "22cbffd3-7ab2-4e9d-bd6d-f6de32958361",
   "metadata": {},
   "outputs": [],
   "source": []
  }
 ],
 "metadata": {
  "environment": {
   "kernel": "python3",
   "name": "tf2-cpu.2-11.m112",
   "type": "gcloud",
   "uri": "gcr.io/deeplearning-platform-release/tf2-cpu.2-11:m112"
  },
  "kernelspec": {
   "display_name": "Python 3",
   "language": "python",
   "name": "python3"
  },
  "language_info": {
   "codemirror_mode": {
    "name": "ipython",
    "version": 3
   },
   "file_extension": ".py",
   "mimetype": "text/x-python",
   "name": "python",
   "nbconvert_exporter": "python",
   "pygments_lexer": "ipython3",
   "version": "3.7.12"
  }
 },
 "nbformat": 4,
 "nbformat_minor": 5
}
